{
 "cells": [
  {
   "cell_type": "code",
   "execution_count": 80,
   "metadata": {},
   "outputs": [],
   "source": [
    "import os\n",
    "import numpy as np\n",
    "import matplotlib.pyplot as plt\n",
    "from matplotlib.colors import ListedColormap\n",
    "import arviz as az\n",
    "import pandas as pd\n",
    "from datetime import datetime\n",
    "import json\n",
    "import argparse\n",
    "\n",
    "import torch\n",
    "import torch.nn.functional as F\n",
    "import pyro\n",
    "import pyro.distributions as dist\n",
    "from pyro.infer import MCMC, NUTS, Predictive, EmpiricalMarginal\n",
    "from pyro.infer.autoguide import init_to_mean, init_to_median, init_to_value\n",
    "from pyro.infer.inspect import get_dependencies\n",
    "from pyro.infer import SVI, TraceEnum_ELBO, config_enumerate, infer_discrete\n",
    "\n",
    "import gempy as gp\n",
    "import gempy_engine\n",
    "import gempy_viewer as gpv\n",
    "from gempy_engine.core.backend_tensor import BackendTensor\n",
    "from gempy_probability.plot_posterior import default_red, default_blue, PlotPosterior\n",
    "\n",
    "import scipy.io\n",
    "from scipy.stats import zscore\n",
    "from sklearn.manifold import TSNE\n",
    "\n",
    "from sklearn.mixture import GaussianMixture\n",
    "from sklearn.mixture import BayesianGaussianMixture\n",
    "from sklearn.cluster import KMeans"
   ]
  },
  {
   "cell_type": "code",
   "execution_count": 81,
   "metadata": {},
   "outputs": [],
   "source": [
    " # Load .mat file\n",
    "SalinasA= np.array(scipy.io.loadmat('./HSI_Salinas/SalinasA.mat')['salinasA'])\n",
    "SalinasA_corrected= np.array(scipy.io.loadmat('./HSI_Salinas/SalinasA_corrected.mat')['salinasA_corrected'])\n",
    "SalinasA_gt= np.array(scipy.io.loadmat('./HSI_Salinas/SalinasA_gt.mat')['salinasA_gt'])\n",
    "#Salinas_gt_mod = np.array(scipy.io.loadmat('./HSI_Salinas/SalinasA_mod.nc')['salinasA_gt'])"
   ]
  },
  {
   "cell_type": "code",
   "execution_count": 82,
   "metadata": {},
   "outputs": [
    {
     "data": {
      "text/plain": [
       "<class 'netCDF4._netCDF4.Variable'>\n",
       "float64 data(x, y, z)\n",
       "unlimited dimensions: \n",
       "current shape = (83, 86, 204)\n",
       "filling on, default _FillValue of 9.969209968386869e+36 used"
      ]
     },
     "execution_count": 82,
     "metadata": {},
     "output_type": "execute_result"
    }
   ],
   "source": [
    "import netCDF4 as nc\n",
    "SalinasA_gt_mod = nc.Dataset('./HSI_Salinas/SalinasA_mod.nc',mode='r')\n",
    "SalinasA_gt_mod.variables['data']"
   ]
  },
  {
   "cell_type": "code",
   "execution_count": 83,
   "metadata": {},
   "outputs": [
    {
     "data": {
      "image/png": "[encoded data removed]",
      "text/plain": [
       "<Figure size 1040x715 with 1 Axes>"
      ]
     },
     "metadata": {},
     "output_type": "display_data"
    }
   ],
   "source": [
    "from skimage import io\n",
    "# Load the image\n",
    "image = io.imread('./HSI_Salinas/SalinasA_mod_gt.png')\n",
    "\n",
    "# Show the image\n",
    "io.imshow(image)\n",
    "io.show()\n",
    "\n",
    "# Access image data as a numpy array\n",
    "#print(image)"
   ]
  },
  {
   "cell_type": "code",
   "execution_count": 84,
   "metadata": {},
   "outputs": [],
   "source": [
    "from PIL import Image\n",
    "# Define the RGB to label mapping for 8 labels\n",
    "rgb_to_label = {\n",
    "    (255, 0, 0): 1,       # Red to label 1\n",
    "    (0, 255, 0): 2,       # Green to label 2\n",
    "    (0, 0, 255): 3,       # Blue to label 3\n",
    "    (255, 255, 0): 4,     # Yellow to label 4\n",
    "    (255, 0, 255): 5,     # Magenta to label 5\n",
    "    (0, 255, 255): 6,     # Cyan to label 6\n",
    "    (255, 255, 255): 7,   # White to label 7\n",
    "    (0, 0, 0): 8          # Black to label 8\n",
    "}\n",
    "\n",
    "# Load the image\n",
    "image = Image.open('./HSI_Salinas/SalinasA_mod_gt.png')\n",
    "image = image.convert('RGB')  # Ensure the image is in RGB mode\n",
    "\n",
    "# Convert the image to a numpy array\n",
    "image_array = np.array(image)\n",
    "\n",
    "# Prepare an empty label array with the same dimensions as the image\n",
    "label_array = np.zeros((image_array.shape[0], image_array.shape[1]), dtype=np.int32)\n",
    "\n",
    "# Iterate over the RGB-to-label mappings and apply them to the label array\n",
    "for rgb, label in rgb_to_label.items():\n",
    "    # Create a mask where all pixels match the current RGB value\n",
    "    mask = np.all(image_array == rgb, axis=-1)\n",
    "    # Assign the corresponding label to the label array\n",
    "    label_array[mask] = label\n",
    "\n",
    "# Now `label_array` contains the labels corresponding to the RGB image\n",
    "\n",
    "# Optional: Convert the label array to an image (for visualization)\n",
    "label_image = Image.fromarray(label_array.astype(np.uint8))\n",
    "label_image.show()"
   ]
  },
  {
   "cell_type": "code",
   "execution_count": 85,
   "metadata": {},
   "outputs": [
    {
     "data": {
      "text/plain": [
       "array([[4, 4, 4, ..., 1, 1, 1],\n",
       "       [4, 4, 4, ..., 1, 1, 1],\n",
       "       [4, 4, 4, ..., 1, 1, 1],\n",
       "       ...,\n",
       "       [5, 5, 5, ..., 8, 8, 8],\n",
       "       [5, 5, 5, ..., 8, 8, 8],\n",
       "       [5, 5, 5, ..., 8, 8, 8]], dtype=int32)"
      ]
     },
     "execution_count": 85,
     "metadata": {},
     "output_type": "execute_result"
    }
   ],
   "source": [
    "label_array"
   ]
  },
  {
   "cell_type": "code",
   "execution_count": 86,
   "metadata": {},
   "outputs": [
    {
     "data": {
      "text/plain": [
       "array([0, 1, 2, 3, 4, 5, 6], dtype=uint8)"
      ]
     },
     "execution_count": 86,
     "metadata": {},
     "output_type": "execute_result"
    }
   ],
   "source": [
    "# Arrange the label in groundtruth\n",
    "i=0\n",
    "label_data = [0,6,1,5,4,3,2]\n",
    "\n",
    "for ele in np.unique(SalinasA_gt):\n",
    "    mask = SalinasA_gt==ele\n",
    "    SalinasA_gt[mask] = label_data[i]\n",
    "    i=i+1\n",
    "    \n",
    "np.unique(SalinasA_gt)\n"
   ]
  },
  {
   "cell_type": "code",
   "execution_count": 97,
   "metadata": {},
   "outputs": [
    {
     "data": {
      "text/plain": [
       "array([[7, 7, 7, ..., 5, 5, 5],\n",
       "       [7, 7, 7, ..., 5, 5, 5],\n",
       "       [7, 7, 7, ..., 5, 5, 5],\n",
       "       ...,\n",
       "       [3, 3, 3, ..., 1, 1, 1],\n",
       "       [3, 3, 3, ..., 1, 1, 1],\n",
       "       [3, 3, 3, ..., 1, 1, 1]], dtype=uint8)"
      ]
     },
     "execution_count": 97,
     "metadata": {},
     "output_type": "execute_result"
    }
   ],
   "source": [
    "SalinasA_gt+1"
   ]
  },
  {
   "cell_type": "code",
   "execution_count": 89,
   "metadata": {},
   "outputs": [
    {
     "data": {
      "text/plain": [
       "array([7, 7, 7, 7, 7, 7, 7, 7, 7, 7, 7, 7, 7, 7, 7, 7, 7, 7, 7, 7, 7, 1,\n",
       "       1, 1, 1, 1, 1, 1, 1, 6, 6, 6, 6, 6, 6, 6, 6, 6, 6, 1, 1, 1, 5, 5,\n",
       "       5, 5, 5, 5, 5, 5, 5, 5, 5, 5, 5, 5, 5, 5, 5, 5, 5, 1, 1, 1, 1, 4,\n",
       "       4, 4, 4, 4, 4, 4, 1, 1, 1, 1, 3, 3, 3, 3, 3, 3, 3], dtype=uint8)"
      ]
     },
     "execution_count": 89,
     "metadata": {},
     "output_type": "execute_result"
    }
   ],
   "source": [
    "(SalinasA_gt +1)[:,0]"
   ]
  },
  {
   "cell_type": "code",
   "execution_count": 90,
   "metadata": {},
   "outputs": [
    {
     "data": {
      "text/plain": [
       "array([4, 4, 4, 4, 4, 4, 4, 4, 4, 4, 4, 4, 4, 4, 4, 4, 4, 4, 4, 4, 4, 8,\n",
       "       8, 8, 8, 8, 8, 8, 8, 3, 3, 3, 3, 3, 3, 3, 3, 3, 3, 8, 8, 8, 1, 1,\n",
       "       1, 1, 1, 1, 1, 1, 1, 1, 1, 1, 1, 1, 1, 1, 1, 1, 1, 8, 8, 8, 8, 2,\n",
       "       2, 2, 2, 2, 2, 2, 8, 8, 8, 8, 5, 5, 5, 5, 5, 5, 5], dtype=int32)"
      ]
     },
     "execution_count": 90,
     "metadata": {},
     "output_type": "execute_result"
    }
   ],
   "source": [
    "label_array[:,0]"
   ]
  },
  {
   "cell_type": "code",
   "execution_count": 91,
   "metadata": {},
   "outputs": [],
   "source": [
    "SalinasA_gt_mod_ = np.zeros_like(label_array)\n",
    "SalinasA_gt_mod_[label_array==8] =1\n",
    "SalinasA_gt_mod_[label_array==7] =3\n",
    "SalinasA_gt_mod_[label_array==6] =2\n",
    "SalinasA_gt_mod_[label_array==5] =4\n",
    "SalinasA_gt_mod_[label_array==4] =8\n",
    "SalinasA_gt_mod_[label_array==3] =7\n",
    "SalinasA_gt_mod_[label_array==2] =5\n",
    "SalinasA_gt_mod_[label_array==1] =6\n",
    "\n"
   ]
  },
  {
   "cell_type": "code",
   "execution_count": 103,
   "metadata": {},
   "outputs": [
    {
     "data": {
      "text/plain": [
       "array([1, 1, 1, 1, 1, 1, 1, 1, 1, 1, 1, 1, 1, 1, 1, 1, 1, 1, 1, 1, 1, 0,\n",
       "       0, 0, 0, 0, 0, 0, 0, 1, 1, 1, 1, 1, 1, 1, 1, 1, 1, 0, 0, 0, 1, 1,\n",
       "       1, 1, 1, 1, 1, 1, 1, 1, 1, 1, 1, 1, 1, 1, 1, 1, 1, 0, 0, 0, 0, 1,\n",
       "       1, 1, 1, 1, 1, 1, 0, 0, 0, 0, 1, 1, 1, 1, 1, 1, 1], dtype=int32)"
      ]
     },
     "execution_count": 103,
     "metadata": {},
     "output_type": "execute_result"
    }
   ],
   "source": [
    "(SalinasA_gt_mod_ - (SalinasA_gt+1))[:,0]"
   ]
  },
  {
   "cell_type": "code",
   "execution_count": 93,
   "metadata": {},
   "outputs": [
    {
     "data": {
      "text/plain": [
       "<matplotlib.image.AxesImage at 0x33516b8b0>"
      ]
     },
     "execution_count": 93,
     "metadata": {},
     "output_type": "execute_result"
    },
    {
     "data": {
      "image/png": "[encoded data removed]",
      "text/plain": [
       "<Figure size 1040x715 with 1 Axes>"
      ]
     },
     "metadata": {},
     "output_type": "display_data"
    }
   ],
   "source": [
    "plt.imshow(SalinasA_gt_mod_)"
   ]
  },
  {
   "cell_type": "code",
   "execution_count": 114,
   "metadata": {},
   "outputs": [
    {
     "data": {
      "text/plain": [
       "array([1, 1, 7, 7, 7, 7, 7, 7, 7, 7, 7, 7, 7, 7, 7, 7, 1, 1, 1, 1, 1, 6,\n",
       "       6, 6, 6, 6, 6, 6, 6, 6, 6, 6, 6, 6, 6, 6, 6, 6, 1, 1, 1, 1, 5, 5,\n",
       "       5, 5, 5, 5, 5, 5, 1, 1, 1, 1, 4, 4, 4, 4, 4, 4, 4, 4, 4, 1, 1, 1,\n",
       "       1, 3, 3, 3, 3, 3, 3, 3, 3, 3, 3, 2, 2, 2, 2, 2, 2], dtype=int32)"
      ]
     },
     "execution_count": 114,
     "metadata": {},
     "output_type": "execute_result"
    }
   ],
   "source": [
    "SalinasA_gt_mod_[:,40]"
   ]
  },
  {
   "cell_type": "code",
   "execution_count": 111,
   "metadata": {},
   "outputs": [
    {
     "data": {
      "text/plain": [
       "(83, 86)"
      ]
     },
     "execution_count": 111,
     "metadata": {},
     "output_type": "execute_result"
    }
   ],
   "source": [
    "SalinasA_gt_mod_.shape"
   ]
  },
  {
   "cell_type": "code",
   "execution_count": 115,
   "metadata": {},
   "outputs": [
    {
     "data": {
      "text/plain": [
       "-77"
      ]
     },
     "execution_count": 115,
     "metadata": {},
     "output_type": "execute_result"
    }
   ],
   "source": [
    "-83+6"
   ]
  },
  {
   "cell_type": "code",
   "execution_count": 94,
   "metadata": {},
   "outputs": [
    {
     "data": {
      "text/plain": [
       "array([1, 2, 3, 4, 5, 6, 7, 8], dtype=int32)"
      ]
     },
     "execution_count": 94,
     "metadata": {},
     "output_type": "execute_result"
    }
   ],
   "source": [
    "np.unique(SalinasA_gt_mod_)"
   ]
  },
  {
   "cell_type": "code",
   "execution_count": 95,
   "metadata": {},
   "outputs": [],
   "source": [
    "data_dict = {\"salinasA_gt_mod\": SalinasA_gt_mod_}\n",
    "scipy.io.savemat('./HSI_Salinas/SalinasA_gt_mod.mat', data_dict)"
   ]
  },
  {
   "cell_type": "code",
   "execution_count": 64,
   "metadata": {},
   "outputs": [
    {
     "data": {
      "text/plain": [
       "<matplotlib.image.AxesImage at 0x335040910>"
      ]
     },
     "execution_count": 64,
     "metadata": {},
     "output_type": "execute_result"
    },
    {
     "data": {
      "image/png": "[encoded data removed]",
      "text/plain": [
       "<Figure size 1040x715 with 1 Axes>"
      ]
     },
     "metadata": {},
     "output_type": "display_data"
    }
   ],
   "source": [
    "plt.imshow(SalinasA_gt[:,0:2])"
   ]
  }
 ],
 "metadata": {
  "kernelspec": {
   "display_name": "gempy3",
   "language": "python",
   "name": "python3"
  },
  "language_info": {
   "codemirror_mode": {
    "name": "ipython",
    "version": 3
   },
   "file_extension": ".py",
   "mimetype": "text/x-python",
   "name": "python",
   "nbconvert_exporter": "python",
   "pygments_lexer": "ipython3",
   "version": "undefined.undefined.undefined"
  }
 },
 "nbformat": 4,
 "nbformat_minor": 2
}
