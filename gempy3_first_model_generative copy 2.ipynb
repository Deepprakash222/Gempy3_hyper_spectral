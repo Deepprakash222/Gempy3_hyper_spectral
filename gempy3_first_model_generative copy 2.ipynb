{
 "cells": [
  {
   "cell_type": "markdown",
   "metadata": {},
   "source": [
    "# Import all the libraries and packages "
   ]
  },
  {
   "cell_type": "code",
   "execution_count": 18,
   "metadata": {},
   "outputs": [],
   "source": [
    "import os\n",
    "import numpy as np\n",
    "import joblib\n",
    "import seaborn as sns\n",
    "import matplotlib.pyplot as plt\n",
    "\n",
    "import torch\n",
    "import torch.nn.functional as F\n",
    "\n",
    "import pyro\n",
    "import pyro.distributions as dist\n",
    "from pyro.infer import MCMC, NUTS, Predictive, EmpiricalMarginal\n",
    "from pyro.infer.autoguide import init_to_mean, init_to_median, init_to_value\n",
    "from pyro.infer.inspect import get_dependencies\n",
    "from pyro.infer import SVI, TraceEnum_ELBO, config_enumerate, infer_discrete\n",
    "\n",
    "import gempy as gp\n",
    "import gempy_engine\n",
    "import gempy_viewer as gpv\n",
    "from gempy_engine.core.backend_tensor import BackendTensor\n",
    "import arviz as az\n",
    "from gempy_probability.plot_posterior import default_red, default_blue, PlotPosterior\n",
    "\n",
    "from sklearn.mixture import GaussianMixture\n",
    "from sklearn.mixture import BayesianGaussianMixture\n",
    "from sklearn.cluster import KMeans\n",
    "from scipy.stats import multivariate_normal, norm"
   ]
  },
  {
   "cell_type": "markdown",
   "metadata": {},
   "source": [
    "# Get the path of all the data"
   ]
  },
  {
   "cell_type": "code",
   "execution_count": 19,
   "metadata": {},
   "outputs": [],
   "source": [
    "filename_a = './Fw__Hyperspectral_datasets_from_the_KSL_cores/CuSp131.pkl'\n",
    "filename_b = './Fw__Hyperspectral_datasets_from_the_KSL_cores/CuSp133.pkl'\n",
    "filename_c = './Fw__Hyperspectral_datasets_from_the_KSL_cores/CuSp136.pkl'"
   ]
  },
  {
   "cell_type": "markdown",
   "metadata": {},
   "source": [
    "# Load and get the data"
   ]
  },
  {
   "cell_type": "code",
   "execution_count": 20,
   "metadata": {},
   "outputs": [
    {
     "data": {
      "text/plain": [
       "dict_keys(['XYZ', 'MWL_SWIRKaol', 'MWL_SWIRClay', 'BR_Fe3_Fe2_FeOH', 'BR_Anhydrite', 'BR_Gypsum', 'BR_Qtz_Fsp_Cal', 'MWL_MWIRCarbonate', 'BR_Kaol_AlOH_H2O', 'MWL_Carbonate', 'BR_Fe2_FeOH'])"
      ]
     },
     "execution_count": 20,
     "metadata": {},
     "output_type": "execute_result"
    }
   ],
   "source": [
    "with open(filename_a, 'rb') as myfile:\n",
    "    a= joblib.load(myfile)\n",
    "a.keys()"
   ]
  },
  {
   "cell_type": "markdown",
   "metadata": {},
   "source": [
    "# Description about Hyperspectral data\n",
    "## Data is obtained by scannig the core data from different boreholes using hyperspectral sensors. There were around 450 channels for each pixels initially. It was preprocessed and seperated based on 10 different types of rocks. In each of the file we have \"X\", \"Y\", \"Z\" coordinates points corresponding to sensors and corresponding to each rock type we have a transformed RGB correspondence information. "
   ]
  },
  {
   "cell_type": "code",
   "execution_count": 21,
   "metadata": {},
   "outputs": [
    {
     "data": {
      "text/plain": [
       "(235, 34)"
      ]
     },
     "execution_count": 21,
     "metadata": {},
     "output_type": "execute_result"
    }
   ],
   "source": [
    "column_name =[]\n",
    "for keys, _ in a.items():\n",
    "    if keys=='XYZ':\n",
    "        column_name.append(\"Borehole_id\")\n",
    "        column_name.append(\"X\")\n",
    "        column_name.append(\"Y\")\n",
    "        column_name.append(\"Z\")\n",
    "    else:\n",
    "        column_name.append(keys+\"_R\")\n",
    "        column_name.append(keys+\"_G\")\n",
    "        column_name.append(keys+\"_B\")\n",
    "data_a =[]\n",
    "for keys, values in a.items():\n",
    "    if keys=='XYZ':\n",
    "        label_a = np.ones((235,1))\n",
    "        data_a.append(label_a)\n",
    "        data_a.append(values)\n",
    "    else:\n",
    "        data_a.append(values/255)\n",
    "\n",
    "# Concatenate the arrays horizontally to create an array of size 5x30\n",
    "concatenated_array_a = np.hstack(data_a)\n",
    "# sort the data based on the depth\n",
    "sorted_indices = np.argsort(-concatenated_array_a[:, 3])\n",
    "concatenated_array_a = concatenated_array_a[sorted_indices]\n",
    "concatenated_array_a.shape"
   ]
  },
  {
   "cell_type": "code",
   "execution_count": 22,
   "metadata": {},
   "outputs": [],
   "source": [
    "import pandas as pd\n",
    "dataframe_KSL = pd.DataFrame(concatenated_array_a,columns=column_name)"
   ]
  },
  {
   "cell_type": "code",
   "execution_count": 23,
   "metadata": {},
   "outputs": [
    {
     "data": {
      "text/html": [
       "<div>\n",
       "<style scoped>\n",
       "    .dataframe tbody tr th:only-of-type {\n",
       "        vertical-align: middle;\n",
       "    }\n",
       "\n",
       "    .dataframe tbody tr th {\n",
       "        vertical-align: top;\n",
       "    }\n",
       "\n",
       "    .dataframe thead th {\n",
       "        text-align: right;\n",
       "    }\n",
       "</style>\n",
       "<table border=\"1\" class=\"dataframe\">\n",
       "  <thead>\n",
       "    <tr style=\"text-align: right;\">\n",
       "      <th></th>\n",
       "      <th>Borehole_id</th>\n",
       "      <th>X</th>\n",
       "      <th>Y</th>\n",
       "      <th>Z</th>\n",
       "      <th>MWL_SWIRKaol_R</th>\n",
       "      <th>MWL_SWIRKaol_G</th>\n",
       "      <th>MWL_SWIRKaol_B</th>\n",
       "      <th>MWL_SWIRClay_R</th>\n",
       "      <th>MWL_SWIRClay_G</th>\n",
       "      <th>MWL_SWIRClay_B</th>\n",
       "      <th>...</th>\n",
       "      <th>MWL_MWIRCarbonate_B</th>\n",
       "      <th>BR_Kaol_AlOH_H2O_R</th>\n",
       "      <th>BR_Kaol_AlOH_H2O_G</th>\n",
       "      <th>BR_Kaol_AlOH_H2O_B</th>\n",
       "      <th>MWL_Carbonate_R</th>\n",
       "      <th>MWL_Carbonate_G</th>\n",
       "      <th>MWL_Carbonate_B</th>\n",
       "      <th>BR_Fe2_FeOH_R</th>\n",
       "      <th>BR_Fe2_FeOH_G</th>\n",
       "      <th>BR_Fe2_FeOH_B</th>\n",
       "    </tr>\n",
       "  </thead>\n",
       "  <tbody>\n",
       "    <tr>\n",
       "      <th>0</th>\n",
       "      <td>1.0</td>\n",
       "      <td>101726.067469</td>\n",
       "      <td>1.256648e+06</td>\n",
       "      <td>-192.063946</td>\n",
       "      <td>0.000000</td>\n",
       "      <td>0.000000</td>\n",
       "      <td>0.000000</td>\n",
       "      <td>0.000000</td>\n",
       "      <td>0.000000</td>\n",
       "      <td>0.007843</td>\n",
       "      <td>...</td>\n",
       "      <td>0.007843</td>\n",
       "      <td>0.0</td>\n",
       "      <td>0.007843</td>\n",
       "      <td>0.015686</td>\n",
       "      <td>0.000000</td>\n",
       "      <td>0.000000</td>\n",
       "      <td>0.000000</td>\n",
       "      <td>0.0</td>\n",
       "      <td>0.0</td>\n",
       "      <td>0.003922</td>\n",
       "    </tr>\n",
       "    <tr>\n",
       "      <th>1</th>\n",
       "      <td>1.0</td>\n",
       "      <td>462396.723231</td>\n",
       "      <td>5.712055e+06</td>\n",
       "      <td>-757.994770</td>\n",
       "      <td>0.027451</td>\n",
       "      <td>0.003922</td>\n",
       "      <td>0.003922</td>\n",
       "      <td>0.019608</td>\n",
       "      <td>0.003922</td>\n",
       "      <td>0.003922</td>\n",
       "      <td>...</td>\n",
       "      <td>0.203922</td>\n",
       "      <td>0.0</td>\n",
       "      <td>0.000000</td>\n",
       "      <td>0.956863</td>\n",
       "      <td>0.058824</td>\n",
       "      <td>0.011765</td>\n",
       "      <td>0.007843</td>\n",
       "      <td>0.0</td>\n",
       "      <td>0.0</td>\n",
       "      <td>0.000000</td>\n",
       "    </tr>\n",
       "    <tr>\n",
       "      <th>2</th>\n",
       "      <td>1.0</td>\n",
       "      <td>462396.707804</td>\n",
       "      <td>5.712055e+06</td>\n",
       "      <td>-758.491319</td>\n",
       "      <td>0.019608</td>\n",
       "      <td>0.003922</td>\n",
       "      <td>0.003922</td>\n",
       "      <td>0.007843</td>\n",
       "      <td>0.000000</td>\n",
       "      <td>0.000000</td>\n",
       "      <td>...</td>\n",
       "      <td>0.180392</td>\n",
       "      <td>0.0</td>\n",
       "      <td>0.000000</td>\n",
       "      <td>0.917647</td>\n",
       "      <td>0.035294</td>\n",
       "      <td>0.019608</td>\n",
       "      <td>0.011765</td>\n",
       "      <td>0.0</td>\n",
       "      <td>0.0</td>\n",
       "      <td>0.000000</td>\n",
       "    </tr>\n",
       "    <tr>\n",
       "      <th>3</th>\n",
       "      <td>1.0</td>\n",
       "      <td>462396.691591</td>\n",
       "      <td>5.712055e+06</td>\n",
       "      <td>-758.987619</td>\n",
       "      <td>0.027451</td>\n",
       "      <td>0.003922</td>\n",
       "      <td>0.003922</td>\n",
       "      <td>0.019608</td>\n",
       "      <td>0.003922</td>\n",
       "      <td>0.003922</td>\n",
       "      <td>...</td>\n",
       "      <td>0.262745</td>\n",
       "      <td>0.0</td>\n",
       "      <td>0.000000</td>\n",
       "      <td>1.000000</td>\n",
       "      <td>0.066667</td>\n",
       "      <td>0.023529</td>\n",
       "      <td>0.015686</td>\n",
       "      <td>0.0</td>\n",
       "      <td>0.0</td>\n",
       "      <td>0.000000</td>\n",
       "    </tr>\n",
       "    <tr>\n",
       "      <th>4</th>\n",
       "      <td>1.0</td>\n",
       "      <td>462396.675420</td>\n",
       "      <td>5.712055e+06</td>\n",
       "      <td>-759.483931</td>\n",
       "      <td>0.015686</td>\n",
       "      <td>0.000000</td>\n",
       "      <td>0.000000</td>\n",
       "      <td>0.003922</td>\n",
       "      <td>0.000000</td>\n",
       "      <td>0.000000</td>\n",
       "      <td>...</td>\n",
       "      <td>0.188235</td>\n",
       "      <td>0.0</td>\n",
       "      <td>0.000000</td>\n",
       "      <td>0.686275</td>\n",
       "      <td>0.058824</td>\n",
       "      <td>0.039216</td>\n",
       "      <td>0.019608</td>\n",
       "      <td>0.0</td>\n",
       "      <td>0.0</td>\n",
       "      <td>0.000000</td>\n",
       "    </tr>\n",
       "    <tr>\n",
       "      <th>...</th>\n",
       "      <td>...</td>\n",
       "      <td>...</td>\n",
       "      <td>...</td>\n",
       "      <td>...</td>\n",
       "      <td>...</td>\n",
       "      <td>...</td>\n",
       "      <td>...</td>\n",
       "      <td>...</td>\n",
       "      <td>...</td>\n",
       "      <td>...</td>\n",
       "      <td>...</td>\n",
       "      <td>...</td>\n",
       "      <td>...</td>\n",
       "      <td>...</td>\n",
       "      <td>...</td>\n",
       "      <td>...</td>\n",
       "      <td>...</td>\n",
       "      <td>...</td>\n",
       "      <td>...</td>\n",
       "      <td>...</td>\n",
       "      <td>...</td>\n",
       "    </tr>\n",
       "    <tr>\n",
       "      <th>230</th>\n",
       "      <td>1.0</td>\n",
       "      <td>462391.365850</td>\n",
       "      <td>5.712036e+06</td>\n",
       "      <td>-870.771163</td>\n",
       "      <td>0.007843</td>\n",
       "      <td>0.000000</td>\n",
       "      <td>0.000000</td>\n",
       "      <td>0.015686</td>\n",
       "      <td>0.062745</td>\n",
       "      <td>0.082353</td>\n",
       "      <td>...</td>\n",
       "      <td>0.058824</td>\n",
       "      <td>0.0</td>\n",
       "      <td>0.082353</td>\n",
       "      <td>0.156863</td>\n",
       "      <td>0.011765</td>\n",
       "      <td>0.007843</td>\n",
       "      <td>0.011765</td>\n",
       "      <td>0.0</td>\n",
       "      <td>0.0</td>\n",
       "      <td>0.019608</td>\n",
       "    </tr>\n",
       "    <tr>\n",
       "      <th>231</th>\n",
       "      <td>1.0</td>\n",
       "      <td>462391.333756</td>\n",
       "      <td>5.712036e+06</td>\n",
       "      <td>-871.258504</td>\n",
       "      <td>0.015686</td>\n",
       "      <td>0.000000</td>\n",
       "      <td>0.000000</td>\n",
       "      <td>0.035294</td>\n",
       "      <td>0.121569</td>\n",
       "      <td>0.180392</td>\n",
       "      <td>...</td>\n",
       "      <td>0.133333</td>\n",
       "      <td>0.0</td>\n",
       "      <td>0.172549</td>\n",
       "      <td>0.321569</td>\n",
       "      <td>0.027451</td>\n",
       "      <td>0.019608</td>\n",
       "      <td>0.023529</td>\n",
       "      <td>0.0</td>\n",
       "      <td>0.0</td>\n",
       "      <td>0.058824</td>\n",
       "    </tr>\n",
       "    <tr>\n",
       "      <th>232</th>\n",
       "      <td>1.0</td>\n",
       "      <td>462391.301701</td>\n",
       "      <td>5.712036e+06</td>\n",
       "      <td>-871.745859</td>\n",
       "      <td>0.019608</td>\n",
       "      <td>0.003922</td>\n",
       "      <td>0.003922</td>\n",
       "      <td>0.027451</td>\n",
       "      <td>0.054902</td>\n",
       "      <td>0.133333</td>\n",
       "      <td>...</td>\n",
       "      <td>0.113725</td>\n",
       "      <td>0.0</td>\n",
       "      <td>0.160784</td>\n",
       "      <td>0.286275</td>\n",
       "      <td>0.027451</td>\n",
       "      <td>0.023529</td>\n",
       "      <td>0.027451</td>\n",
       "      <td>0.0</td>\n",
       "      <td>0.0</td>\n",
       "      <td>0.062745</td>\n",
       "    </tr>\n",
       "    <tr>\n",
       "      <th>233</th>\n",
       "      <td>1.0</td>\n",
       "      <td>462391.268635</td>\n",
       "      <td>5.712036e+06</td>\n",
       "      <td>-872.233237</td>\n",
       "      <td>0.015686</td>\n",
       "      <td>0.003922</td>\n",
       "      <td>0.003922</td>\n",
       "      <td>0.027451</td>\n",
       "      <td>0.039216</td>\n",
       "      <td>0.117647</td>\n",
       "      <td>...</td>\n",
       "      <td>0.090196</td>\n",
       "      <td>0.0</td>\n",
       "      <td>0.149020</td>\n",
       "      <td>0.278431</td>\n",
       "      <td>0.027451</td>\n",
       "      <td>0.023529</td>\n",
       "      <td>0.027451</td>\n",
       "      <td>0.0</td>\n",
       "      <td>0.0</td>\n",
       "      <td>0.058824</td>\n",
       "    </tr>\n",
       "    <tr>\n",
       "      <th>234</th>\n",
       "      <td>1.0</td>\n",
       "      <td>462391.235636</td>\n",
       "      <td>5.712036e+06</td>\n",
       "      <td>-872.720620</td>\n",
       "      <td>0.015686</td>\n",
       "      <td>0.003922</td>\n",
       "      <td>0.003922</td>\n",
       "      <td>0.023529</td>\n",
       "      <td>0.035294</td>\n",
       "      <td>0.113725</td>\n",
       "      <td>...</td>\n",
       "      <td>0.101961</td>\n",
       "      <td>0.0</td>\n",
       "      <td>0.125490</td>\n",
       "      <td>0.207843</td>\n",
       "      <td>0.023529</td>\n",
       "      <td>0.019608</td>\n",
       "      <td>0.023529</td>\n",
       "      <td>0.0</td>\n",
       "      <td>0.0</td>\n",
       "      <td>0.027451</td>\n",
       "    </tr>\n",
       "  </tbody>\n",
       "</table>\n",
       "<p>235 rows × 34 columns</p>\n",
       "</div>"
      ],
      "text/plain": [
       "     Borehole_id              X             Y           Z  MWL_SWIRKaol_R   \n",
       "0            1.0  101726.067469  1.256648e+06 -192.063946        0.000000  \\\n",
       "1            1.0  462396.723231  5.712055e+06 -757.994770        0.027451   \n",
       "2            1.0  462396.707804  5.712055e+06 -758.491319        0.019608   \n",
       "3            1.0  462396.691591  5.712055e+06 -758.987619        0.027451   \n",
       "4            1.0  462396.675420  5.712055e+06 -759.483931        0.015686   \n",
       "..           ...            ...           ...         ...             ...   \n",
       "230          1.0  462391.365850  5.712036e+06 -870.771163        0.007843   \n",
       "231          1.0  462391.333756  5.712036e+06 -871.258504        0.015686   \n",
       "232          1.0  462391.301701  5.712036e+06 -871.745859        0.019608   \n",
       "233          1.0  462391.268635  5.712036e+06 -872.233237        0.015686   \n",
       "234          1.0  462391.235636  5.712036e+06 -872.720620        0.015686   \n",
       "\n",
       "     MWL_SWIRKaol_G  MWL_SWIRKaol_B  MWL_SWIRClay_R  MWL_SWIRClay_G   \n",
       "0          0.000000        0.000000        0.000000        0.000000  \\\n",
       "1          0.003922        0.003922        0.019608        0.003922   \n",
       "2          0.003922        0.003922        0.007843        0.000000   \n",
       "3          0.003922        0.003922        0.019608        0.003922   \n",
       "4          0.000000        0.000000        0.003922        0.000000   \n",
       "..              ...             ...             ...             ...   \n",
       "230        0.000000        0.000000        0.015686        0.062745   \n",
       "231        0.000000        0.000000        0.035294        0.121569   \n",
       "232        0.003922        0.003922        0.027451        0.054902   \n",
       "233        0.003922        0.003922        0.027451        0.039216   \n",
       "234        0.003922        0.003922        0.023529        0.035294   \n",
       "\n",
       "     MWL_SWIRClay_B  ...  MWL_MWIRCarbonate_B  BR_Kaol_AlOH_H2O_R   \n",
       "0          0.007843  ...             0.007843                 0.0  \\\n",
       "1          0.003922  ...             0.203922                 0.0   \n",
       "2          0.000000  ...             0.180392                 0.0   \n",
       "3          0.003922  ...             0.262745                 0.0   \n",
       "4          0.000000  ...             0.188235                 0.0   \n",
       "..              ...  ...                  ...                 ...   \n",
       "230        0.082353  ...             0.058824                 0.0   \n",
       "231        0.180392  ...             0.133333                 0.0   \n",
       "232        0.133333  ...             0.113725                 0.0   \n",
       "233        0.117647  ...             0.090196                 0.0   \n",
       "234        0.113725  ...             0.101961                 0.0   \n",
       "\n",
       "     BR_Kaol_AlOH_H2O_G  BR_Kaol_AlOH_H2O_B  MWL_Carbonate_R  MWL_Carbonate_G   \n",
       "0              0.007843            0.015686         0.000000         0.000000  \\\n",
       "1              0.000000            0.956863         0.058824         0.011765   \n",
       "2              0.000000            0.917647         0.035294         0.019608   \n",
       "3              0.000000            1.000000         0.066667         0.023529   \n",
       "4              0.000000            0.686275         0.058824         0.039216   \n",
       "..                  ...                 ...              ...              ...   \n",
       "230            0.082353            0.156863         0.011765         0.007843   \n",
       "231            0.172549            0.321569         0.027451         0.019608   \n",
       "232            0.160784            0.286275         0.027451         0.023529   \n",
       "233            0.149020            0.278431         0.027451         0.023529   \n",
       "234            0.125490            0.207843         0.023529         0.019608   \n",
       "\n",
       "     MWL_Carbonate_B  BR_Fe2_FeOH_R  BR_Fe2_FeOH_G  BR_Fe2_FeOH_B  \n",
       "0           0.000000            0.0            0.0       0.003922  \n",
       "1           0.007843            0.0            0.0       0.000000  \n",
       "2           0.011765            0.0            0.0       0.000000  \n",
       "3           0.015686            0.0            0.0       0.000000  \n",
       "4           0.019608            0.0            0.0       0.000000  \n",
       "..               ...            ...            ...            ...  \n",
       "230         0.011765            0.0            0.0       0.019608  \n",
       "231         0.023529            0.0            0.0       0.058824  \n",
       "232         0.027451            0.0            0.0       0.062745  \n",
       "233         0.027451            0.0            0.0       0.058824  \n",
       "234         0.023529            0.0            0.0       0.027451  \n",
       "\n",
       "[235 rows x 34 columns]"
      ]
     },
     "execution_count": 23,
     "metadata": {},
     "output_type": "execute_result"
    }
   ],
   "source": [
    "dataframe_KSL"
   ]
  },
  {
   "cell_type": "code",
   "execution_count": 24,
   "metadata": {},
   "outputs": [
    {
     "data": {
      "text/html": [
       "<div>\n",
       "<style scoped>\n",
       "    .dataframe tbody tr th:only-of-type {\n",
       "        vertical-align: middle;\n",
       "    }\n",
       "\n",
       "    .dataframe tbody tr th {\n",
       "        vertical-align: top;\n",
       "    }\n",
       "\n",
       "    .dataframe thead th {\n",
       "        text-align: right;\n",
       "    }\n",
       "</style>\n",
       "<table border=\"1\" class=\"dataframe\">\n",
       "  <thead>\n",
       "    <tr style=\"text-align: right;\">\n",
       "      <th></th>\n",
       "      <th>MWL_SWIRKaol_R</th>\n",
       "      <th>MWL_SWIRKaol_G</th>\n",
       "      <th>MWL_SWIRKaol_B</th>\n",
       "      <th>MWL_SWIRClay_R</th>\n",
       "      <th>MWL_SWIRClay_G</th>\n",
       "      <th>MWL_SWIRClay_B</th>\n",
       "      <th>BR_Fe3_Fe2_FeOH_R</th>\n",
       "      <th>BR_Fe3_Fe2_FeOH_G</th>\n",
       "      <th>BR_Fe3_Fe2_FeOH_B</th>\n",
       "      <th>BR_Anhydrite_R</th>\n",
       "      <th>...</th>\n",
       "      <th>MWL_MWIRCarbonate_B</th>\n",
       "      <th>BR_Kaol_AlOH_H2O_R</th>\n",
       "      <th>BR_Kaol_AlOH_H2O_G</th>\n",
       "      <th>BR_Kaol_AlOH_H2O_B</th>\n",
       "      <th>MWL_Carbonate_R</th>\n",
       "      <th>MWL_Carbonate_G</th>\n",
       "      <th>MWL_Carbonate_B</th>\n",
       "      <th>BR_Fe2_FeOH_R</th>\n",
       "      <th>BR_Fe2_FeOH_G</th>\n",
       "      <th>BR_Fe2_FeOH_B</th>\n",
       "    </tr>\n",
       "  </thead>\n",
       "  <tbody>\n",
       "    <tr>\n",
       "      <th>0</th>\n",
       "      <td>0.000000</td>\n",
       "      <td>0.000000</td>\n",
       "      <td>0.000000</td>\n",
       "      <td>0.000000</td>\n",
       "      <td>0.000000</td>\n",
       "      <td>0.007843</td>\n",
       "      <td>0.023529</td>\n",
       "      <td>0.0</td>\n",
       "      <td>0.003922</td>\n",
       "      <td>0.000000</td>\n",
       "      <td>...</td>\n",
       "      <td>0.007843</td>\n",
       "      <td>0.0</td>\n",
       "      <td>0.007843</td>\n",
       "      <td>0.015686</td>\n",
       "      <td>0.000000</td>\n",
       "      <td>0.000000</td>\n",
       "      <td>0.000000</td>\n",
       "      <td>0.0</td>\n",
       "      <td>0.0</td>\n",
       "      <td>0.003922</td>\n",
       "    </tr>\n",
       "    <tr>\n",
       "      <th>1</th>\n",
       "      <td>0.027451</td>\n",
       "      <td>0.003922</td>\n",
       "      <td>0.003922</td>\n",
       "      <td>0.019608</td>\n",
       "      <td>0.003922</td>\n",
       "      <td>0.003922</td>\n",
       "      <td>0.000000</td>\n",
       "      <td>0.0</td>\n",
       "      <td>0.000000</td>\n",
       "      <td>0.949020</td>\n",
       "      <td>...</td>\n",
       "      <td>0.203922</td>\n",
       "      <td>0.0</td>\n",
       "      <td>0.000000</td>\n",
       "      <td>0.956863</td>\n",
       "      <td>0.058824</td>\n",
       "      <td>0.011765</td>\n",
       "      <td>0.007843</td>\n",
       "      <td>0.0</td>\n",
       "      <td>0.0</td>\n",
       "      <td>0.000000</td>\n",
       "    </tr>\n",
       "    <tr>\n",
       "      <th>2</th>\n",
       "      <td>0.019608</td>\n",
       "      <td>0.003922</td>\n",
       "      <td>0.003922</td>\n",
       "      <td>0.007843</td>\n",
       "      <td>0.000000</td>\n",
       "      <td>0.000000</td>\n",
       "      <td>0.000000</td>\n",
       "      <td>0.0</td>\n",
       "      <td>0.000000</td>\n",
       "      <td>0.909804</td>\n",
       "      <td>...</td>\n",
       "      <td>0.180392</td>\n",
       "      <td>0.0</td>\n",
       "      <td>0.000000</td>\n",
       "      <td>0.917647</td>\n",
       "      <td>0.035294</td>\n",
       "      <td>0.019608</td>\n",
       "      <td>0.011765</td>\n",
       "      <td>0.0</td>\n",
       "      <td>0.0</td>\n",
       "      <td>0.000000</td>\n",
       "    </tr>\n",
       "    <tr>\n",
       "      <th>3</th>\n",
       "      <td>0.027451</td>\n",
       "      <td>0.003922</td>\n",
       "      <td>0.003922</td>\n",
       "      <td>0.019608</td>\n",
       "      <td>0.003922</td>\n",
       "      <td>0.003922</td>\n",
       "      <td>0.000000</td>\n",
       "      <td>0.0</td>\n",
       "      <td>0.000000</td>\n",
       "      <td>0.992157</td>\n",
       "      <td>...</td>\n",
       "      <td>0.262745</td>\n",
       "      <td>0.0</td>\n",
       "      <td>0.000000</td>\n",
       "      <td>1.000000</td>\n",
       "      <td>0.066667</td>\n",
       "      <td>0.023529</td>\n",
       "      <td>0.015686</td>\n",
       "      <td>0.0</td>\n",
       "      <td>0.0</td>\n",
       "      <td>0.000000</td>\n",
       "    </tr>\n",
       "    <tr>\n",
       "      <th>4</th>\n",
       "      <td>0.015686</td>\n",
       "      <td>0.000000</td>\n",
       "      <td>0.000000</td>\n",
       "      <td>0.003922</td>\n",
       "      <td>0.000000</td>\n",
       "      <td>0.000000</td>\n",
       "      <td>0.000000</td>\n",
       "      <td>0.0</td>\n",
       "      <td>0.000000</td>\n",
       "      <td>0.694118</td>\n",
       "      <td>...</td>\n",
       "      <td>0.188235</td>\n",
       "      <td>0.0</td>\n",
       "      <td>0.000000</td>\n",
       "      <td>0.686275</td>\n",
       "      <td>0.058824</td>\n",
       "      <td>0.039216</td>\n",
       "      <td>0.019608</td>\n",
       "      <td>0.0</td>\n",
       "      <td>0.0</td>\n",
       "      <td>0.000000</td>\n",
       "    </tr>\n",
       "    <tr>\n",
       "      <th>...</th>\n",
       "      <td>...</td>\n",
       "      <td>...</td>\n",
       "      <td>...</td>\n",
       "      <td>...</td>\n",
       "      <td>...</td>\n",
       "      <td>...</td>\n",
       "      <td>...</td>\n",
       "      <td>...</td>\n",
       "      <td>...</td>\n",
       "      <td>...</td>\n",
       "      <td>...</td>\n",
       "      <td>...</td>\n",
       "      <td>...</td>\n",
       "      <td>...</td>\n",
       "      <td>...</td>\n",
       "      <td>...</td>\n",
       "      <td>...</td>\n",
       "      <td>...</td>\n",
       "      <td>...</td>\n",
       "      <td>...</td>\n",
       "      <td>...</td>\n",
       "    </tr>\n",
       "    <tr>\n",
       "      <th>230</th>\n",
       "      <td>0.007843</td>\n",
       "      <td>0.000000</td>\n",
       "      <td>0.000000</td>\n",
       "      <td>0.015686</td>\n",
       "      <td>0.062745</td>\n",
       "      <td>0.082353</td>\n",
       "      <td>0.188235</td>\n",
       "      <td>0.0</td>\n",
       "      <td>0.019608</td>\n",
       "      <td>0.000000</td>\n",
       "      <td>...</td>\n",
       "      <td>0.058824</td>\n",
       "      <td>0.0</td>\n",
       "      <td>0.082353</td>\n",
       "      <td>0.156863</td>\n",
       "      <td>0.011765</td>\n",
       "      <td>0.007843</td>\n",
       "      <td>0.011765</td>\n",
       "      <td>0.0</td>\n",
       "      <td>0.0</td>\n",
       "      <td>0.019608</td>\n",
       "    </tr>\n",
       "    <tr>\n",
       "      <th>231</th>\n",
       "      <td>0.015686</td>\n",
       "      <td>0.000000</td>\n",
       "      <td>0.000000</td>\n",
       "      <td>0.035294</td>\n",
       "      <td>0.121569</td>\n",
       "      <td>0.180392</td>\n",
       "      <td>0.341176</td>\n",
       "      <td>0.0</td>\n",
       "      <td>0.058824</td>\n",
       "      <td>0.000000</td>\n",
       "      <td>...</td>\n",
       "      <td>0.133333</td>\n",
       "      <td>0.0</td>\n",
       "      <td>0.172549</td>\n",
       "      <td>0.321569</td>\n",
       "      <td>0.027451</td>\n",
       "      <td>0.019608</td>\n",
       "      <td>0.023529</td>\n",
       "      <td>0.0</td>\n",
       "      <td>0.0</td>\n",
       "      <td>0.058824</td>\n",
       "    </tr>\n",
       "    <tr>\n",
       "      <th>232</th>\n",
       "      <td>0.019608</td>\n",
       "      <td>0.003922</td>\n",
       "      <td>0.003922</td>\n",
       "      <td>0.027451</td>\n",
       "      <td>0.054902</td>\n",
       "      <td>0.133333</td>\n",
       "      <td>0.278431</td>\n",
       "      <td>0.0</td>\n",
       "      <td>0.062745</td>\n",
       "      <td>0.000000</td>\n",
       "      <td>...</td>\n",
       "      <td>0.113725</td>\n",
       "      <td>0.0</td>\n",
       "      <td>0.160784</td>\n",
       "      <td>0.286275</td>\n",
       "      <td>0.027451</td>\n",
       "      <td>0.023529</td>\n",
       "      <td>0.027451</td>\n",
       "      <td>0.0</td>\n",
       "      <td>0.0</td>\n",
       "      <td>0.062745</td>\n",
       "    </tr>\n",
       "    <tr>\n",
       "      <th>233</th>\n",
       "      <td>0.015686</td>\n",
       "      <td>0.003922</td>\n",
       "      <td>0.003922</td>\n",
       "      <td>0.027451</td>\n",
       "      <td>0.039216</td>\n",
       "      <td>0.117647</td>\n",
       "      <td>0.270588</td>\n",
       "      <td>0.0</td>\n",
       "      <td>0.058824</td>\n",
       "      <td>0.000000</td>\n",
       "      <td>...</td>\n",
       "      <td>0.090196</td>\n",
       "      <td>0.0</td>\n",
       "      <td>0.149020</td>\n",
       "      <td>0.278431</td>\n",
       "      <td>0.027451</td>\n",
       "      <td>0.023529</td>\n",
       "      <td>0.027451</td>\n",
       "      <td>0.0</td>\n",
       "      <td>0.0</td>\n",
       "      <td>0.058824</td>\n",
       "    </tr>\n",
       "    <tr>\n",
       "      <th>234</th>\n",
       "      <td>0.015686</td>\n",
       "      <td>0.003922</td>\n",
       "      <td>0.003922</td>\n",
       "      <td>0.023529</td>\n",
       "      <td>0.035294</td>\n",
       "      <td>0.113725</td>\n",
       "      <td>0.247059</td>\n",
       "      <td>0.0</td>\n",
       "      <td>0.027451</td>\n",
       "      <td>0.000000</td>\n",
       "      <td>...</td>\n",
       "      <td>0.101961</td>\n",
       "      <td>0.0</td>\n",
       "      <td>0.125490</td>\n",
       "      <td>0.207843</td>\n",
       "      <td>0.023529</td>\n",
       "      <td>0.019608</td>\n",
       "      <td>0.023529</td>\n",
       "      <td>0.0</td>\n",
       "      <td>0.0</td>\n",
       "      <td>0.027451</td>\n",
       "    </tr>\n",
       "  </tbody>\n",
       "</table>\n",
       "<p>235 rows × 30 columns</p>\n",
       "</div>"
      ],
      "text/plain": [
       "     MWL_SWIRKaol_R  MWL_SWIRKaol_G  MWL_SWIRKaol_B  MWL_SWIRClay_R   \n",
       "0          0.000000        0.000000        0.000000        0.000000  \\\n",
       "1          0.027451        0.003922        0.003922        0.019608   \n",
       "2          0.019608        0.003922        0.003922        0.007843   \n",
       "3          0.027451        0.003922        0.003922        0.019608   \n",
       "4          0.015686        0.000000        0.000000        0.003922   \n",
       "..              ...             ...             ...             ...   \n",
       "230        0.007843        0.000000        0.000000        0.015686   \n",
       "231        0.015686        0.000000        0.000000        0.035294   \n",
       "232        0.019608        0.003922        0.003922        0.027451   \n",
       "233        0.015686        0.003922        0.003922        0.027451   \n",
       "234        0.015686        0.003922        0.003922        0.023529   \n",
       "\n",
       "     MWL_SWIRClay_G  MWL_SWIRClay_B  BR_Fe3_Fe2_FeOH_R  BR_Fe3_Fe2_FeOH_G   \n",
       "0          0.000000        0.007843           0.023529                0.0  \\\n",
       "1          0.003922        0.003922           0.000000                0.0   \n",
       "2          0.000000        0.000000           0.000000                0.0   \n",
       "3          0.003922        0.003922           0.000000                0.0   \n",
       "4          0.000000        0.000000           0.000000                0.0   \n",
       "..              ...             ...                ...                ...   \n",
       "230        0.062745        0.082353           0.188235                0.0   \n",
       "231        0.121569        0.180392           0.341176                0.0   \n",
       "232        0.054902        0.133333           0.278431                0.0   \n",
       "233        0.039216        0.117647           0.270588                0.0   \n",
       "234        0.035294        0.113725           0.247059                0.0   \n",
       "\n",
       "     BR_Fe3_Fe2_FeOH_B  BR_Anhydrite_R  ...  MWL_MWIRCarbonate_B   \n",
       "0             0.003922        0.000000  ...             0.007843  \\\n",
       "1             0.000000        0.949020  ...             0.203922   \n",
       "2             0.000000        0.909804  ...             0.180392   \n",
       "3             0.000000        0.992157  ...             0.262745   \n",
       "4             0.000000        0.694118  ...             0.188235   \n",
       "..                 ...             ...  ...                  ...   \n",
       "230           0.019608        0.000000  ...             0.058824   \n",
       "231           0.058824        0.000000  ...             0.133333   \n",
       "232           0.062745        0.000000  ...             0.113725   \n",
       "233           0.058824        0.000000  ...             0.090196   \n",
       "234           0.027451        0.000000  ...             0.101961   \n",
       "\n",
       "     BR_Kaol_AlOH_H2O_R  BR_Kaol_AlOH_H2O_G  BR_Kaol_AlOH_H2O_B   \n",
       "0                   0.0            0.007843            0.015686  \\\n",
       "1                   0.0            0.000000            0.956863   \n",
       "2                   0.0            0.000000            0.917647   \n",
       "3                   0.0            0.000000            1.000000   \n",
       "4                   0.0            0.000000            0.686275   \n",
       "..                  ...                 ...                 ...   \n",
       "230                 0.0            0.082353            0.156863   \n",
       "231                 0.0            0.172549            0.321569   \n",
       "232                 0.0            0.160784            0.286275   \n",
       "233                 0.0            0.149020            0.278431   \n",
       "234                 0.0            0.125490            0.207843   \n",
       "\n",
       "     MWL_Carbonate_R  MWL_Carbonate_G  MWL_Carbonate_B  BR_Fe2_FeOH_R   \n",
       "0           0.000000         0.000000         0.000000            0.0  \\\n",
       "1           0.058824         0.011765         0.007843            0.0   \n",
       "2           0.035294         0.019608         0.011765            0.0   \n",
       "3           0.066667         0.023529         0.015686            0.0   \n",
       "4           0.058824         0.039216         0.019608            0.0   \n",
       "..               ...              ...              ...            ...   \n",
       "230         0.011765         0.007843         0.011765            0.0   \n",
       "231         0.027451         0.019608         0.023529            0.0   \n",
       "232         0.027451         0.023529         0.027451            0.0   \n",
       "233         0.027451         0.023529         0.027451            0.0   \n",
       "234         0.023529         0.019608         0.023529            0.0   \n",
       "\n",
       "     BR_Fe2_FeOH_G  BR_Fe2_FeOH_B  \n",
       "0              0.0       0.003922  \n",
       "1              0.0       0.000000  \n",
       "2              0.0       0.000000  \n",
       "3              0.0       0.000000  \n",
       "4              0.0       0.000000  \n",
       "..             ...            ...  \n",
       "230            0.0       0.019608  \n",
       "231            0.0       0.058824  \n",
       "232            0.0       0.062745  \n",
       "233            0.0       0.058824  \n",
       "234            0.0       0.027451  \n",
       "\n",
       "[235 rows x 30 columns]"
      ]
     },
     "execution_count": 24,
     "metadata": {},
     "output_type": "execute_result"
    }
   ],
   "source": [
    "spectral_data = dataframe_KSL.iloc[:,4:]\n",
    "spectral_data"
   ]
  },
  {
   "cell_type": "code",
   "execution_count": 25,
   "metadata": {},
   "outputs": [
    {
     "data": {
      "image/png": "[encoded data removed]",
      "text/plain": [
       "<Figure size 2000x1000 with 10 Axes>"
      ]
     },
     "metadata": {},
     "output_type": "display_data"
    }
   ],
   "source": [
    "fig, ax = plt.subplots(1, 10, figsize=(20,10))\n",
    "for i in range(10):\n",
    "    colum_start = 3 *i\n",
    "    colum_end = 3 *i +3\n",
    " \n",
    "    ax[i].imshow(spectral_data.iloc[:,colum_start:colum_end]) \n",
    "    \n",
    "# Remove axis labels for clarity\n",
    "for ax in ax:\n",
    "    ax.axis('off')\n"
   ]
  },
  {
   "cell_type": "code",
   "execution_count": 26,
   "metadata": {},
   "outputs": [
    {
     "data": {
      "text/html": [
       "<div>\n",
       "<style scoped>\n",
       "    .dataframe tbody tr th:only-of-type {\n",
       "        vertical-align: middle;\n",
       "    }\n",
       "\n",
       "    .dataframe tbody tr th {\n",
       "        vertical-align: top;\n",
       "    }\n",
       "\n",
       "    .dataframe thead th {\n",
       "        text-align: right;\n",
       "    }\n",
       "</style>\n",
       "<table border=\"1\" class=\"dataframe\">\n",
       "  <thead>\n",
       "    <tr style=\"text-align: right;\">\n",
       "      <th></th>\n",
       "      <th>BR_Anhydrite_R</th>\n",
       "      <th>BR_Anhydrite_G</th>\n",
       "      <th>BR_Anhydrite_B</th>\n",
       "      <th>BR_Qtz_Fsp_Cal_R</th>\n",
       "      <th>BR_Qtz_Fsp_Cal_G</th>\n",
       "      <th>BR_Qtz_Fsp_Cal_B</th>\n",
       "    </tr>\n",
       "  </thead>\n",
       "  <tbody>\n",
       "    <tr>\n",
       "      <th>0</th>\n",
       "      <td>0.000000</td>\n",
       "      <td>0.007843</td>\n",
       "      <td>0.023529</td>\n",
       "      <td>0.015686</td>\n",
       "      <td>0.0</td>\n",
       "      <td>0.000000</td>\n",
       "    </tr>\n",
       "    <tr>\n",
       "      <th>1</th>\n",
       "      <td>0.949020</td>\n",
       "      <td>0.866667</td>\n",
       "      <td>0.203922</td>\n",
       "      <td>0.000000</td>\n",
       "      <td>0.0</td>\n",
       "      <td>0.000000</td>\n",
       "    </tr>\n",
       "    <tr>\n",
       "      <th>2</th>\n",
       "      <td>0.909804</td>\n",
       "      <td>0.831373</td>\n",
       "      <td>0.196078</td>\n",
       "      <td>0.000000</td>\n",
       "      <td>0.0</td>\n",
       "      <td>0.035294</td>\n",
       "    </tr>\n",
       "    <tr>\n",
       "      <th>3</th>\n",
       "      <td>0.992157</td>\n",
       "      <td>0.905882</td>\n",
       "      <td>0.215686</td>\n",
       "      <td>0.000000</td>\n",
       "      <td>0.0</td>\n",
       "      <td>0.062745</td>\n",
       "    </tr>\n",
       "    <tr>\n",
       "      <th>4</th>\n",
       "      <td>0.694118</td>\n",
       "      <td>0.631373</td>\n",
       "      <td>0.149020</td>\n",
       "      <td>0.000000</td>\n",
       "      <td>0.0</td>\n",
       "      <td>0.125490</td>\n",
       "    </tr>\n",
       "    <tr>\n",
       "      <th>...</th>\n",
       "      <td>...</td>\n",
       "      <td>...</td>\n",
       "      <td>...</td>\n",
       "      <td>...</td>\n",
       "      <td>...</td>\n",
       "      <td>...</td>\n",
       "    </tr>\n",
       "    <tr>\n",
       "      <th>230</th>\n",
       "      <td>0.000000</td>\n",
       "      <td>0.054902</td>\n",
       "      <td>0.121569</td>\n",
       "      <td>0.070588</td>\n",
       "      <td>0.0</td>\n",
       "      <td>0.094118</td>\n",
       "    </tr>\n",
       "    <tr>\n",
       "      <th>231</th>\n",
       "      <td>0.000000</td>\n",
       "      <td>0.117647</td>\n",
       "      <td>0.262745</td>\n",
       "      <td>0.156863</td>\n",
       "      <td>0.0</td>\n",
       "      <td>0.125490</td>\n",
       "    </tr>\n",
       "    <tr>\n",
       "      <th>232</th>\n",
       "      <td>0.000000</td>\n",
       "      <td>0.125490</td>\n",
       "      <td>0.282353</td>\n",
       "      <td>0.184314</td>\n",
       "      <td>0.0</td>\n",
       "      <td>0.066667</td>\n",
       "    </tr>\n",
       "    <tr>\n",
       "      <th>233</th>\n",
       "      <td>0.000000</td>\n",
       "      <td>0.125490</td>\n",
       "      <td>0.290196</td>\n",
       "      <td>0.168627</td>\n",
       "      <td>0.0</td>\n",
       "      <td>0.149020</td>\n",
       "    </tr>\n",
       "    <tr>\n",
       "      <th>234</th>\n",
       "      <td>0.000000</td>\n",
       "      <td>0.109804</td>\n",
       "      <td>0.247059</td>\n",
       "      <td>0.172549</td>\n",
       "      <td>0.0</td>\n",
       "      <td>0.211765</td>\n",
       "    </tr>\n",
       "  </tbody>\n",
       "</table>\n",
       "<p>235 rows × 6 columns</p>\n",
       "</div>"
      ],
      "text/plain": [
       "     BR_Anhydrite_R  BR_Anhydrite_G  BR_Anhydrite_B  BR_Qtz_Fsp_Cal_R   \n",
       "0          0.000000        0.007843        0.023529          0.015686  \\\n",
       "1          0.949020        0.866667        0.203922          0.000000   \n",
       "2          0.909804        0.831373        0.196078          0.000000   \n",
       "3          0.992157        0.905882        0.215686          0.000000   \n",
       "4          0.694118        0.631373        0.149020          0.000000   \n",
       "..              ...             ...             ...               ...   \n",
       "230        0.000000        0.054902        0.121569          0.070588   \n",
       "231        0.000000        0.117647        0.262745          0.156863   \n",
       "232        0.000000        0.125490        0.282353          0.184314   \n",
       "233        0.000000        0.125490        0.290196          0.168627   \n",
       "234        0.000000        0.109804        0.247059          0.172549   \n",
       "\n",
       "     BR_Qtz_Fsp_Cal_G  BR_Qtz_Fsp_Cal_B  \n",
       "0                 0.0          0.000000  \n",
       "1                 0.0          0.000000  \n",
       "2                 0.0          0.035294  \n",
       "3                 0.0          0.062745  \n",
       "4                 0.0          0.125490  \n",
       "..                ...               ...  \n",
       "230               0.0          0.094118  \n",
       "231               0.0          0.125490  \n",
       "232               0.0          0.066667  \n",
       "233               0.0          0.149020  \n",
       "234               0.0          0.211765  \n",
       "\n",
       "[235 rows x 6 columns]"
      ]
     },
     "execution_count": 26,
     "metadata": {},
     "output_type": "execute_result"
    }
   ],
   "source": [
    "column_list =['BR_Anhydrite_R',\n",
    " 'BR_Anhydrite_G',\n",
    " 'BR_Anhydrite_B',\n",
    " 'BR_Qtz_Fsp_Cal_R',\n",
    " 'BR_Qtz_Fsp_Cal_G',\n",
    " 'BR_Qtz_Fsp_Cal_B'\n",
    " ]\n",
    "hsi_data = dataframe_KSL[column_list]\n",
    "hsi_data"
   ]
  },
  {
   "cell_type": "code",
   "execution_count": 27,
   "metadata": {},
   "outputs": [],
   "source": []
  },
  {
   "cell_type": "markdown",
   "metadata": {},
   "source": [
    "# Since it is difficult to classify a hyperspectral data in general. We can apply different classical clustering methods to have some starting guess"
   ]
  },
  {
   "cell_type": "code",
   "execution_count": 28,
   "metadata": {},
   "outputs": [],
   "source": [
    "\n",
    "#gm = KMeans(n_clusters=3, random_state=42).fit(X)\n",
    "#gm = GaussianMixture(n_components=3, random_state=0).fit(X)\n",
    "gm = BayesianGaussianMixture(n_components=3,covariance_type='full', random_state=0).fit(hsi_data)"
   ]
  },
  {
   "cell_type": "code",
   "execution_count": 29,
   "metadata": {},
   "outputs": [
    {
     "data": {
      "text/plain": [
       "(array([[7.71968839e-01, 7.05429203e-01, 1.67939396e-01, 4.09525013e-04,\n",
       "         0.00000000e+00, 2.91311307e-02],\n",
       "        [9.40121984e-02, 1.71913397e-01, 2.09966969e-01, 3.27839958e-03,\n",
       "         0.00000000e+00, 7.28620311e-01],\n",
       "        [8.19402576e-03, 1.15901741e-01, 2.47505076e-01, 1.65117002e-01,\n",
       "         0.00000000e+00, 4.19518439e-02]]),\n",
       " array([[[ 4.33002341e-02,  3.92883055e-02,  8.77528201e-03,\n",
       "          -3.05456806e-04,  0.00000000e+00,  5.32015149e-05],\n",
       "         [ 3.92883055e-02,  3.56846591e-02,  8.03772688e-03,\n",
       "          -2.44771188e-04,  0.00000000e+00,  1.57119257e-04],\n",
       "         [ 8.77528201e-03,  8.03772688e-03,  1.95029488e-03,\n",
       "           1.20617224e-05,  0.00000000e+00,  2.54546847e-04],\n",
       "         [-3.05456806e-04, -2.44771188e-04,  1.20617224e-05,\n",
       "           5.65984466e-05,  0.00000000e+00, -3.76308121e-07],\n",
       "         [ 0.00000000e+00,  0.00000000e+00,  0.00000000e+00,\n",
       "           0.00000000e+00,  9.57443183e-07,  0.00000000e+00],\n",
       "         [ 5.32015149e-05,  1.57119257e-04,  2.54546847e-04,\n",
       "          -3.76308121e-07,  0.00000000e+00,  2.63701229e-03]],\n",
       " \n",
       "        [[ 2.21480994e-02,  1.67385445e-02, -1.74426993e-03,\n",
       "          -2.57068059e-04,  0.00000000e+00, -5.40908620e-03],\n",
       "         [ 1.67385445e-02,  1.32208920e-02, -1.86351496e-04,\n",
       "          -2.04969136e-04,  0.00000000e+00, -5.79384057e-04],\n",
       "         [-1.74426993e-03, -1.86351496e-04,  2.71290581e-03,\n",
       "           2.33609363e-05,  0.00000000e+00,  7.99424700e-03],\n",
       "         [-2.57068059e-04, -2.04969136e-04,  2.33609363e-05,\n",
       "           3.29858306e-04,  0.00000000e+00, -6.90047843e-04],\n",
       "         [ 0.00000000e+00,  0.00000000e+00,  0.00000000e+00,\n",
       "           0.00000000e+00,  8.80783534e-07,  0.00000000e+00],\n",
       "         [-5.40908620e-03, -5.79384057e-04,  7.99424700e-03,\n",
       "          -6.90047843e-04,  0.00000000e+00,  3.43544736e-02]],\n",
       " \n",
       "        [[ 6.02135857e-03,  4.69543985e-03, -5.13864917e-04,\n",
       "          -1.24450858e-03,  0.00000000e+00,  1.01950816e-04],\n",
       "         [ 4.69543985e-03,  4.40669430e-03,  1.28831391e-03,\n",
       "           2.73946461e-04,  0.00000000e+00, -6.11968745e-04],\n",
       "         [-5.13864917e-04,  1.28831391e-03,  3.89066851e-03,\n",
       "           2.93462709e-03,  0.00000000e+00, -1.59436184e-03],\n",
       "         [-1.24450858e-03,  2.73946461e-04,  2.93462709e-03,\n",
       "           3.86334631e-03,  0.00000000e+00, -1.44604084e-03],\n",
       "         [ 0.00000000e+00,  0.00000000e+00,  0.00000000e+00,\n",
       "           0.00000000e+00,  9.02729088e-07,  0.00000000e+00],\n",
       "         [ 1.01950816e-04, -6.11968745e-04, -1.59436184e-03,\n",
       "          -1.44604084e-03,  0.00000000e+00,  8.76907498e-03]]]))"
      ]
     },
     "execution_count": 29,
     "metadata": {},
     "output_type": "execute_result"
    }
   ],
   "source": [
    "gm.means_ , gm.covariances_"
   ]
  },
  {
   "cell_type": "code",
   "execution_count": 30,
   "metadata": {},
   "outputs": [],
   "source": [
    "loc_mean = torch.tensor(gm.means_)\n",
    "loc_cov  = torch.tensor(gm.covariances_)"
   ]
  },
  {
   "cell_type": "code",
   "execution_count": 31,
   "metadata": {},
   "outputs": [
    {
     "name": "stdout",
     "output_type": "stream",
     "text": [
      "[0 0 0 0 0 0 0 0 0 0 0 0 0 0 0 0 0 0 0 0 0 0 0 0 0 0 0 0 0 0 0 0 0 0 0 0 0\n",
      " 0 0 0 0 0 0 0 0 0 0 0 0 0 0 0 0 0 0 0 0 0 0 0 0 0 0 0 0 0 0 0 0 0 0 0 0 0\n",
      " 0 0 0 0 0 0 0 0 0 0 0 0 0 0 0 0 0 0 0 0 0 0 0 0 0 0 0 0 0 0 0 0 0 0 0 0 0\n",
      " 0 0 0 0 0 0 0 0 0 0 0 0 0 0 0 0 0 0 0 0 0 0 0 0 1 1 1 1 1 1 1 1 1 1 1 1 1\n",
      " 1 1 1 1 1 1 1 1 1 1 1 1 1 1 1 1 1 1 1 1 1 1 1 1 1 1 1 1 1 1 1 2 2 2 2 2 2\n",
      " 2 2 2 2 2 2 2 2 2 2 2 2 2 2 2 2 2 2 2 2 2 2 2 2 2 2 2 2 2 2 2 2 2 2 2 2 2\n",
      " 2 2 2 2 2 2 2 2 2 2 2 2 2]\n"
     ]
    },
    {
     "data": {
      "text/plain": [
       "tensor([1., 1., 1., 1., 1., 1., 1., 1., 1., 1., 1., 1., 1., 1., 1., 1., 1., 1.,\n",
       "        1., 1., 1., 1., 1., 1., 1., 1., 1., 1., 1., 1., 1., 1., 1., 1., 1., 1.,\n",
       "        1., 1., 1., 1., 1., 1., 1., 1., 1., 1., 1., 1., 1., 1., 1., 1., 1., 1.,\n",
       "        1., 1., 1., 1., 1., 1., 1., 1., 1., 1., 1., 1., 1., 1., 1., 1., 1., 1.,\n",
       "        1., 1., 1., 1., 1., 1., 1., 1., 1., 1., 1., 1., 1., 1., 1., 1., 1., 1.,\n",
       "        1., 1., 1., 1., 1., 1., 1., 1., 1., 1., 1., 1., 1., 1., 1., 1., 1., 1.,\n",
       "        1., 1., 1., 1., 1., 1., 1., 1., 1., 1., 1., 1., 1., 1., 1., 1., 1., 1.,\n",
       "        1., 1., 1., 1., 1., 1., 1., 1., 1., 2., 2., 2., 2., 2., 2., 2., 2., 2.,\n",
       "        2., 2., 2., 2., 2., 2., 2., 2., 2., 2., 2., 2., 2., 2., 2., 2., 2., 2.,\n",
       "        2., 2., 2., 2., 2., 2., 2., 2., 2., 2., 2., 2., 2., 2., 2., 2., 2., 3.,\n",
       "        3., 3., 3., 3., 3., 3., 3., 3., 3., 3., 3., 3., 3., 3., 3., 3., 3., 3.,\n",
       "        3., 3., 3., 3., 3., 3., 3., 3., 3., 3., 3., 3., 3., 3., 3., 3., 3., 3.,\n",
       "        3., 3., 3., 3., 3., 3., 3., 3., 3., 3., 3., 3., 3., 3., 3., 3., 3., 3.,\n",
       "        3.])"
      ]
     },
     "execution_count": 31,
     "metadata": {},
     "output_type": "execute_result"
    }
   ],
   "source": [
    "y_gmm_label = gm.predict(hsi_data)\n",
    "print(y_gmm_label)\n",
    "\n",
    "y_gmm_label_arranged = torch.Tensor(y_gmm_label+1)\n",
    "y_gmm_label_arranged "
   ]
  },
  {
   "cell_type": "markdown",
   "metadata": {},
   "source": [
    "# We use the normalised hsi data y_obs_label information"
   ]
  },
  {
   "cell_type": "code",
   "execution_count": 32,
   "metadata": {},
   "outputs": [],
   "source": [
    "\n",
    "y_obs_label = hsi_data"
   ]
  },
  {
   "cell_type": "code",
   "execution_count": 33,
   "metadata": {},
   "outputs": [
    {
     "name": "stderr",
     "output_type": "stream",
     "text": [
      "/Users/deepprakashravi/miniforge3/envs/gempy3/lib/python3.10/site-packages/gempy_viewer/API/_plot_2d_API.py:172: UserWarning: FigureCanvasAgg is non-interactive, and thus cannot be shown\n",
      "  p.fig.show()\n"
     ]
    },
    {
     "data": {
      "image/png": "[encoded data removed]",
      "text/plain": [
       "<Figure size 1040x715 with 1 Axes>"
      ]
     },
     "metadata": {},
     "output_type": "display_data"
    }
   ],
   "source": [
    "geo_model_test = gp.create_geomodel(\n",
    "    project_name='Gempy_abc_Test',\n",
    "    extent=[0, 1000, -500, 500, -900, -700],\n",
    "    resolution=[100,100,100],\n",
    "    refinement=3,\n",
    "    structural_frame= gp.data.StructuralFrame.initialize_default_structure()\n",
    "    )\n",
    "p2d = gpv.plot_2d(geo_model_test)"
   ]
  },
  {
   "cell_type": "code",
   "execution_count": 34,
   "metadata": {},
   "outputs": [
    {
     "data": {
      "text/plain": [
       "array([False, False, False, False, False])"
      ]
     },
     "execution_count": 34,
     "metadata": {},
     "output_type": "execute_result"
    }
   ],
   "source": [
    "geo_model_test.grid.active_grids_bool"
   ]
  },
  {
   "cell_type": "code",
   "execution_count": 35,
   "metadata": {},
   "outputs": [
    {
     "data": {
      "text/plain": [
       "<gempy_viewer.modules.plot_2d.visualization_2d.Plot2D at 0x32be73e80>"
      ]
     },
     "execution_count": 35,
     "metadata": {},
     "output_type": "execute_result"
    },
    {
     "data": {
      "image/png": "[encoded data removed]",
      "text/plain": [
       "<Figure size 1040x715 with 1 Axes>"
      ]
     },
     "metadata": {},
     "output_type": "display_data"
    }
   ],
   "source": [
    "gp.add_surface_points(\n",
    "    geo_model=geo_model_test,\n",
    "    x=[100.0, 900.0],\n",
    "    y=[0.0, 0.0],\n",
    "    z=[brk1, brk1],\n",
    "    elements_names=['surface1', 'surface1']\n",
    ")\n",
    "gpv.plot_2d(geo_model_test, cell_number=11)"
   ]
  },
  {
   "cell_type": "code",
   "execution_count": 36,
   "metadata": {},
   "outputs": [
    {
     "data": {
      "text/plain": [
       "<gempy_viewer.modules.plot_2d.visualization_2d.Plot2D at 0x337f15d50>"
      ]
     },
     "execution_count": 36,
     "metadata": {},
     "output_type": "execute_result"
    },
    {
     "data": {
      "image/png": "[encoded data removed]",
      "text/plain": [
       "<Figure size 1040x715 with 1 Axes>"
      ]
     },
     "metadata": {},
     "output_type": "display_data"
    }
   ],
   "source": [
    "gp.add_orientations(\n",
    "    geo_model=geo_model_test,\n",
    "    x=[500],\n",
    "    y=[0.0],\n",
    "    z=[brk1],\n",
    "    elements_names=['surface1'],\n",
    "    pole_vector=[[0, 0, 1]]\n",
    ")\n",
    "\n",
    "gpv.plot_2d(geo_model_test, cell_number=5)"
   ]
  },
  {
   "cell_type": "code",
   "execution_count": 37,
   "metadata": {},
   "outputs": [],
   "source": [
    "geo_model_test.update_transform(gp.data.GlobalAnisotropy.NONE)"
   ]
  },
  {
   "cell_type": "code",
   "execution_count": 38,
   "metadata": {},
   "outputs": [
    {
     "name": "stdout",
     "output_type": "stream",
     "text": [
      "Setting Backend To: AvailableBackends.numpy\n"
     ]
    },
    {
     "name": "stderr",
     "output_type": "stream",
     "text": [
      "/Users/deepprakashravi/miniforge3/envs/gempy3/lib/python3.10/site-packages/gempy/core/data/geo_model.py:164: UserWarning: You are using refinement and passing a regular grid. The resolution of the regular grid will be overwritten\n",
      "  warnings.warn(\n"
     ]
    },
    {
     "data": {
      "text/html": [
       "<b>Solutions:</b> 3 Octree Levels, 1 DualContouringMeshes"
      ],
      "text/plain": [
       "Solutions(3 Octree Levels, 1 DualContouringMeshes)"
      ]
     },
     "execution_count": 38,
     "metadata": {},
     "output_type": "execute_result"
    }
   ],
   "source": [
    "gp.compute_model(geo_model_test, engine_config=gp.data.GemPyEngineConfig())"
   ]
  },
  {
   "cell_type": "code",
   "execution_count": 39,
   "metadata": {},
   "outputs": [
    {
     "data": {
      "text/html": [
       "\n",
       "            <table>\n",
       "                <tr><td colspan='2' style='text-align:center'><b>KernelOptions</b></td></tr>\n",
       "                <tr><td>range</td><td>5</td></tr><tr><td>c_o</td><td>10</td></tr><tr><td>uni_degree</td><td>1</td></tr><tr><td>i_res</td><td>4</td></tr><tr><td>gi_res</td><td>2</td></tr><tr><td>number_dimensions</td><td>3</td></tr><tr><td>kernel_function</td><td>AvailableKernelFunctions.cubic</td></tr><tr><td>compute_condition_number</td><td>False</td></tr><tr><td>kernel_solver</td><td>Solvers.DEFAULT</td></tr>\n",
       "            </table>\n",
       "            "
      ],
      "text/plain": [
       "KernelOptions(range=5, c_o=10, uni_degree=1, i_res=4, gi_res=2, number_dimensions=3, kernel_function=AvailableKernelFunctions.cubic, compute_condition_number=False, kernel_solver=Solvers.DEFAULT)"
      ]
     },
     "execution_count": 39,
     "metadata": {},
     "output_type": "execute_result"
    }
   ],
   "source": [
    "geo_model_test.interpolation_options.kernel_options"
   ]
  },
  {
   "cell_type": "code",
   "execution_count": 40,
   "metadata": {},
   "outputs": [
    {
     "name": "stderr",
     "output_type": "stream",
     "text": [
      "/Users/deepprakashravi/miniforge3/envs/gempy3/lib/python3.10/site-packages/gempy_viewer/API/_plot_2d_API.py:172: UserWarning: FigureCanvasAgg is non-interactive, and thus cannot be shown\n",
      "  p.fig.show()\n"
     ]
    },
    {
     "data": {
      "text/plain": [
       "<gempy_viewer.modules.plot_2d.visualization_2d.Plot2D at 0x337fb34c0>"
      ]
     },
     "execution_count": 40,
     "metadata": {},
     "output_type": "execute_result"
    },
    {
     "data": {
      "image/png": "[encoded data removed]",
      "text/plain": [
       "<Figure size 1040x715 with 2 Axes>"
      ]
     },
     "metadata": {},
     "output_type": "display_data"
    }
   ],
   "source": [
    "gpv.plot_2d(geo_model_test, cell_number=[5])"
   ]
  },
  {
   "cell_type": "code",
   "execution_count": 41,
   "metadata": {},
   "outputs": [],
   "source": [
    "#gpv.plot_3d(geo_model_test, show_surfaces=True, image=True)"
   ]
  },
  {
   "cell_type": "code",
   "execution_count": 42,
   "metadata": {},
   "outputs": [
    {
     "data": {
      "text/html": [
       "\n",
       "        <table>\n",
       "          <tr><td>Structural Groups:</td><td>\n",
       "    <table style=\"border-left:1.2px solid black;>\n",
       "      <tr><th colspan=\"2\"><b>StructuralGroup:</b></th></tr>\n",
       "      <tr><td>Name:</td><td>default_formations</td></tr>\n",
       "      <tr><td>Structural Relation:</td><td>StackRelationType.ERODE</td></tr>\n",
       "      <tr><td>Elements:</td><td>\n",
       "    <table width=\"50%\" style=\"border-left:15px solid #015482;\">\n",
       "      <tr><th colspan=\"2\"><b>StructuralElement:</b></th></tr>\n",
       "      <tr><td>Name:</td><td>surface1</td></tr>\n",
       "    </table>\n",
       "        </td></tr>\n",
       "    </table>\n",
       "        </td></tr>\n",
       "          <tr><td>Fault Relations:</td><td><table style=\"border-collapse: collapse; table-layout: fixed;\"><th></th><th style=\"transform: rotate(-35deg); height:150px; vertical-align: bottom; text-align: center;\">default_fo...</th><tr><th>default_formations</th><td style=\"background-color: #FFB6C1; width: 20px; height: 20px; border: 1px solid black;\"></td></tr></table></td></tr>\n",
       "          <tr><td></td><td>\n",
       "        <table>\n",
       "          <tr>\n",
       "            <td><div style=\"display: inline-block; background-color: #527682; width: 20px; height: 20px; border: 1px solid black;\"></div> True</td>\n",
       "            <td><div style=\"display: inline-block; background-color: #FFB6C1; width: 20px; height: 20px; border: 1px solid black;\"></div> False</td>\n",
       "          </tr>\n",
       "        </table>\n",
       "        </td></tr>\n",
       "        </table>\n",
       "        "
      ],
      "text/plain": [
       "StructuralFrame(\n",
       "\tstructural_groups=[\n",
       "StructuralGroup(\n",
       "\tname=default_formations,\n",
       "\tstructural_relation=StackRelationType.ERODE,\n",
       "\telements=[\n",
       "Element(\n",
       "\tname=surface1,\n",
       "\tcolor=\u001b[38;2;1;84;130m#015482\u001b[0m,\n",
       "\tis_active=True\n",
       ")\n",
       "]\n",
       ")\n",
       "],\n",
       "\tfault_relations=\n",
       "[[False]],"
      ]
     },
     "execution_count": 42,
     "metadata": {},
     "output_type": "execute_result"
    }
   ],
   "source": [
    "geo_model_test.structural_frame"
   ]
  },
  {
   "cell_type": "code",
   "execution_count": 43,
   "metadata": {},
   "outputs": [
    {
     "data": {
      "text/plain": [
       "-825"
      ]
     },
     "execution_count": 43,
     "metadata": {},
     "output_type": "execute_result"
    }
   ],
   "source": [
    "brk2"
   ]
  },
  {
   "cell_type": "code",
   "execution_count": 44,
   "metadata": {},
   "outputs": [
    {
     "name": "stdout",
     "output_type": "stream",
     "text": [
      "Setting Backend To: AvailableBackends.numpy\n"
     ]
    },
    {
     "name": "stderr",
     "output_type": "stream",
     "text": [
      "/Users/deepprakashravi/miniforge3/envs/gempy3/lib/python3.10/site-packages/gempy_viewer/API/_plot_2d_API.py:172: UserWarning: FigureCanvasAgg is non-interactive, and thus cannot be shown\n",
      "  p.fig.show()\n"
     ]
    },
    {
     "data": {
      "text/plain": [
       "<gempy_viewer.modules.plot_2d.visualization_2d.Plot2D at 0x339fc2bc0>"
      ]
     },
     "execution_count": 44,
     "metadata": {},
     "output_type": "execute_result"
    },
    {
     "data": {
      "image/png": "[encoded data removed]",
      "text/plain": [
       "<Figure size 1040x715 with 2 Axes>"
      ]
     },
     "metadata": {},
     "output_type": "display_data"
    }
   ],
   "source": [
    "element2 = gp.data.StructuralElement(\n",
    "    name='surface2',\n",
    "    color=next(geo_model_test.structural_frame.color_generator),\n",
    "    surface_points=gp.data.SurfacePointsTable.from_arrays(\n",
    "        x=np.array([100.0, 900.0]),\n",
    "        y=np.array([0.0, 0.0]),\n",
    "        z=np.array([brk2, brk2]),\n",
    "        names='surface2'\n",
    "    ),\n",
    "    orientations=gp.data.OrientationsTable.initialize_empty()\n",
    ")\n",
    "\n",
    "geo_model_test.structural_frame.structural_groups[0].append_element(element2)\n",
    "# Compute and visualize the updated model:\n",
    "gp.compute_model(geo_model_test)\n",
    "gpv.plot_2d(geo_model_test, cell_number=5, legend='force')\n",
    "    "
   ]
  },
  {
   "cell_type": "code",
   "execution_count": 45,
   "metadata": {},
   "outputs": [],
   "source": [
    "#gpv.plot_3d(geo_model_test, image=True)"
   ]
  },
  {
   "cell_type": "code",
   "execution_count": 46,
   "metadata": {},
   "outputs": [
    {
     "data": {
      "text/html": [
       "\n",
       "        <table>\n",
       "          <tr><td>Structural Groups:</td><td>\n",
       "    <table style=\"border-left:1.2px solid black;>\n",
       "      <tr><th colspan=\"2\"><b>StructuralGroup:</b></th></tr>\n",
       "      <tr><td>Name:</td><td>default_formations</td></tr>\n",
       "      <tr><td>Structural Relation:</td><td>StackRelationType.ERODE</td></tr>\n",
       "      <tr><td>Elements:</td><td>\n",
       "    <table width=\"50%\" style=\"border-left:15px solid #015482;\">\n",
       "      <tr><th colspan=\"2\"><b>StructuralElement:</b></th></tr>\n",
       "      <tr><td>Name:</td><td>surface1</td></tr>\n",
       "    </table>\n",
       "        <br>\n",
       "    <table width=\"50%\" style=\"border-left:15px solid #9f0052;\">\n",
       "      <tr><th colspan=\"2\"><b>StructuralElement:</b></th></tr>\n",
       "      <tr><td>Name:</td><td>surface2</td></tr>\n",
       "    </table>\n",
       "        </td></tr>\n",
       "    </table>\n",
       "        </td></tr>\n",
       "          <tr><td>Fault Relations:</td><td><table style=\"border-collapse: collapse; table-layout: fixed;\"><th></th><th style=\"transform: rotate(-35deg); height:150px; vertical-align: bottom; text-align: center;\">default_fo...</th><tr><th>default_formations</th><td style=\"background-color: #FFB6C1; width: 20px; height: 20px; border: 1px solid black;\"></td></tr></table></td></tr>\n",
       "          <tr><td></td><td>\n",
       "        <table>\n",
       "          <tr>\n",
       "            <td><div style=\"display: inline-block; background-color: #527682; width: 20px; height: 20px; border: 1px solid black;\"></div> True</td>\n",
       "            <td><div style=\"display: inline-block; background-color: #FFB6C1; width: 20px; height: 20px; border: 1px solid black;\"></div> False</td>\n",
       "          </tr>\n",
       "        </table>\n",
       "        </td></tr>\n",
       "        </table>\n",
       "        "
      ],
      "text/plain": [
       "StructuralFrame(\n",
       "\tstructural_groups=[\n",
       "StructuralGroup(\n",
       "\tname=default_formations,\n",
       "\tstructural_relation=StackRelationType.ERODE,\n",
       "\telements=[\n",
       "Element(\n",
       "\tname=surface1,\n",
       "\tcolor=\u001b[38;2;1;84;130m#015482\u001b[0m,\n",
       "\tis_active=True\n",
       "),\n",
       "Element(\n",
       "\tname=surface2,\n",
       "\tcolor=\u001b[38;2;159;0;82m#9f0052\u001b[0m,\n",
       "\tis_active=True\n",
       ")\n",
       "]\n",
       ")\n",
       "],\n",
       "\tfault_relations=\n",
       "[[False]],"
      ]
     },
     "execution_count": 46,
     "metadata": {},
     "output_type": "execute_result"
    }
   ],
   "source": [
    "geo_model_test.structural_frame"
   ]
  },
  {
   "cell_type": "code",
   "execution_count": 47,
   "metadata": {},
   "outputs": [],
   "source": [
    "geo_model_test.structural_frame.structural_groups[0].elements[0], geo_model_test.structural_frame.structural_groups[0].elements[1] = \\\n",
    "geo_model_test.structural_frame.structural_groups[0].elements[1], geo_model_test.structural_frame.structural_groups[0].elements[0]"
   ]
  },
  {
   "cell_type": "code",
   "execution_count": 48,
   "metadata": {},
   "outputs": [
    {
     "data": {
      "text/html": [
       "\n",
       "        <table>\n",
       "          <tr><td>Structural Groups:</td><td>\n",
       "    <table style=\"border-left:1.2px solid black;>\n",
       "      <tr><th colspan=\"2\"><b>StructuralGroup:</b></th></tr>\n",
       "      <tr><td>Name:</td><td>default_formations</td></tr>\n",
       "      <tr><td>Structural Relation:</td><td>StackRelationType.ERODE</td></tr>\n",
       "      <tr><td>Elements:</td><td>\n",
       "    <table width=\"50%\" style=\"border-left:15px solid #9f0052;\">\n",
       "      <tr><th colspan=\"2\"><b>StructuralElement:</b></th></tr>\n",
       "      <tr><td>Name:</td><td>surface2</td></tr>\n",
       "    </table>\n",
       "        <br>\n",
       "    <table width=\"50%\" style=\"border-left:15px solid #015482;\">\n",
       "      <tr><th colspan=\"2\"><b>StructuralElement:</b></th></tr>\n",
       "      <tr><td>Name:</td><td>surface1</td></tr>\n",
       "    </table>\n",
       "        </td></tr>\n",
       "    </table>\n",
       "        </td></tr>\n",
       "          <tr><td>Fault Relations:</td><td><table style=\"border-collapse: collapse; table-layout: fixed;\"><th></th><th style=\"transform: rotate(-35deg); height:150px; vertical-align: bottom; text-align: center;\">default_fo...</th><tr><th>default_formations</th><td style=\"background-color: #FFB6C1; width: 20px; height: 20px; border: 1px solid black;\"></td></tr></table></td></tr>\n",
       "          <tr><td></td><td>\n",
       "        <table>\n",
       "          <tr>\n",
       "            <td><div style=\"display: inline-block; background-color: #527682; width: 20px; height: 20px; border: 1px solid black;\"></div> True</td>\n",
       "            <td><div style=\"display: inline-block; background-color: #FFB6C1; width: 20px; height: 20px; border: 1px solid black;\"></div> False</td>\n",
       "          </tr>\n",
       "        </table>\n",
       "        </td></tr>\n",
       "        </table>\n",
       "        "
      ],
      "text/plain": [
       "StructuralFrame(\n",
       "\tstructural_groups=[\n",
       "StructuralGroup(\n",
       "\tname=default_formations,\n",
       "\tstructural_relation=StackRelationType.ERODE,\n",
       "\telements=[\n",
       "Element(\n",
       "\tname=surface2,\n",
       "\tcolor=\u001b[38;2;159;0;82m#9f0052\u001b[0m,\n",
       "\tis_active=True\n",
       "),\n",
       "Element(\n",
       "\tname=surface1,\n",
       "\tcolor=\u001b[38;2;1;84;130m#015482\u001b[0m,\n",
       "\tis_active=True\n",
       ")\n",
       "]\n",
       ")\n",
       "],\n",
       "\tfault_relations=\n",
       "[[False]],"
      ]
     },
     "execution_count": 48,
     "metadata": {},
     "output_type": "execute_result"
    }
   ],
   "source": [
    "geo_model_test.structural_frame"
   ]
  },
  {
   "cell_type": "code",
   "execution_count": 49,
   "metadata": {},
   "outputs": [
    {
     "data": {
      "text/plain": [
       "<gempy_viewer.modules.plot_2d.visualization_2d.Plot2D at 0x33a14b130>"
      ]
     },
     "execution_count": 49,
     "metadata": {},
     "output_type": "execute_result"
    },
    {
     "data": {
      "image/png": "[encoded data removed]",
      "text/plain": [
       "<Figure size 1040x715 with 2 Axes>"
      ]
     },
     "metadata": {},
     "output_type": "display_data"
    }
   ],
   "source": [
    "gpv.plot_2d(geo_model_test, cell_number=5, legend='force')"
   ]
  },
  {
   "cell_type": "markdown",
   "metadata": {},
   "source": [
    "# Create a custome grid where the observed data information is available "
   ]
  },
  {
   "cell_type": "code",
   "execution_count": 50,
   "metadata": {},
   "outputs": [
    {
     "name": "stdout",
     "output_type": "stream",
     "text": [
      "Active grids: ['custom']\n"
     ]
    },
    {
     "data": {
      "text/plain": [
       "<gempy.core.data.grid_modules.grid_types.CustomGrid at 0x33a23d3f0>"
      ]
     },
     "execution_count": 50,
     "metadata": {},
     "output_type": "execute_result"
    }
   ],
   "source": [
    "x_loc = 300\n",
    "y_loc = 0\n",
    "z_loc = dataframe_KSL['Z']\n",
    "xyz_coord = np.array([[x_loc, y_loc, z] for z in z_loc])\n",
    "gp.set_custom_grid(geo_model_test.grid, xyz_coord=xyz_coord)"
   ]
  },
  {
   "cell_type": "code",
   "execution_count": 51,
   "metadata": {},
   "outputs": [
    {
     "data": {
      "text/plain": [
       "array([[ 100.,    0., -825.],\n",
       "       [ 900.,    0., -825.],\n",
       "       [ 100.,    0., -845.],\n",
       "       [ 900.,    0., -845.]])"
      ]
     },
     "execution_count": 51,
     "metadata": {},
     "output_type": "execute_result"
    }
   ],
   "source": [
    "sp_coords_copy_test = geo_model_test.interpolation_input.surface_points.sp_coords.copy()\n",
    "geo_model_test.transform.apply_inverse(sp_coords_copy_test)"
   ]
  },
  {
   "cell_type": "code",
   "execution_count": 52,
   "metadata": {},
   "outputs": [
    {
     "data": {
      "text/plain": [
       "<gempy_viewer.modules.plot_2d.visualization_2d.Plot2D at 0x33a1cc5b0>"
      ]
     },
     "execution_count": 52,
     "metadata": {},
     "output_type": "execute_result"
    },
    {
     "data": {
      "image/png": "[encoded data removed]",
      "text/plain": [
       "<Figure size 1040x715 with 2 Axes>"
      ]
     },
     "metadata": {},
     "output_type": "display_data"
    }
   ],
   "source": [
    "gp.add_surface_points(\n",
    "    geo_model=geo_model_test,\n",
    "    x=[x_loc, x_loc],\n",
    "    y=[0.0, 0.0],\n",
    "    z=[brk1, brk2],\n",
    "    elements_names=['surface1', 'surface2']\n",
    ")\n",
    "gpv.plot_2d(geo_model_test, cell_number=1)"
   ]
  },
  {
   "cell_type": "code",
   "execution_count": 53,
   "metadata": {},
   "outputs": [
    {
     "data": {
      "text/html": [
       "<table><tr><th>X</th><th>Y</th><th>Z</th><th>id</th><th>nugget</th></tr><tr><td>100.00</td><td>0.00</td><td>-825.00</td><td>79273328</td><td>0.00</td></tr><tr><td>900.00</td><td>0.00</td><td>-825.00</td><td>79273328</td><td>0.00</td></tr><tr><td>300.00</td><td>0.00</td><td>-825.00</td><td>79273328</td><td>0.00</td></tr><tr><td>100.00</td><td>0.00</td><td>-845.00</td><td>14488294</td><td>0.00</td></tr><tr><td>900.00</td><td>0.00</td><td>-845.00</td><td>14488294</td><td>0.00</td></tr><tr><td>300.00</td><td>0.00</td><td>-845.00</td><td>14488294</td><td>0.00</td></tr></table>"
      ],
      "text/plain": [
       "SurfacePointsTable(data=\n",
       "[(100., 0., -825., 79273328, 0.),(900., 0., -825., 79273328, 0.),\n",
       " (300., 0., -825., 79273328, 0.),(100., 0., -845., 14488294, 0.),\n",
       " (900., 0., -845., 14488294, 0.),(300., 0., -845., 14488294, 0.)],\n",
       "name_id_map={'surface2': 79273328, 'surface1': 14488294, 'basement': 19250914})"
      ]
     },
     "execution_count": 53,
     "metadata": {},
     "output_type": "execute_result"
    }
   ],
   "source": [
    "geo_model_test.surface_points"
   ]
  },
  {
   "cell_type": "code",
   "execution_count": 54,
   "metadata": {},
   "outputs": [
    {
     "name": "stdout",
     "output_type": "stream",
     "text": [
      "Setting Backend To: AvailableBackends.numpy\n"
     ]
    },
    {
     "name": "stderr",
     "output_type": "stream",
     "text": [
      "/Users/deepprakashravi/miniforge3/envs/gempy3/lib/python3.10/site-packages/gempy_viewer/API/_plot_2d_API.py:172: UserWarning: FigureCanvasAgg is non-interactive, and thus cannot be shown\n",
      "  p.fig.show()\n"
     ]
    },
    {
     "data": {
      "text/plain": [
       "<gempy_viewer.modules.plot_2d.visualization_2d.Plot2D at 0x33a317eb0>"
      ]
     },
     "execution_count": 54,
     "metadata": {},
     "output_type": "execute_result"
    },
    {
     "data": {
      "image/png": "[encoded data removed]",
      "text/plain": [
       "<Figure size 1040x715 with 2 Axes>"
      ]
     },
     "metadata": {},
     "output_type": "display_data"
    }
   ],
   "source": [
    "gp.compute_model(geo_model_test)\n",
    "gpv.plot_2d(geo_model_test, cell_number=5, legend='force')"
   ]
  },
  {
   "cell_type": "code",
   "execution_count": 55,
   "metadata": {},
   "outputs": [
    {
     "data": {
      "text/plain": [
       "array([[ 100.,    0., -825.],\n",
       "       [ 900.,    0., -825.],\n",
       "       [ 300.,    0., -825.],\n",
       "       [ 100.,    0., -845.],\n",
       "       [ 900.,    0., -845.],\n",
       "       [ 300.,    0., -845.]])"
      ]
     },
     "execution_count": 55,
     "metadata": {},
     "output_type": "execute_result"
    }
   ],
   "source": [
    "sp_coords_copy_test = geo_model_test.interpolation_input.surface_points.sp_coords.copy()\n",
    "geo_model_test.transform.apply_inverse(sp_coords_copy_test)"
   ]
  },
  {
   "cell_type": "code",
   "execution_count": 56,
   "metadata": {},
   "outputs": [
    {
     "name": "stdout",
     "output_type": "stream",
     "text": [
      "Setting Backend To: AvailableBackends.PYTORCH\n"
     ]
    }
   ],
   "source": [
    "# Change the backend to PyTorch for probabilistic modeling\n",
    "BackendTensor.change_backend_gempy(engine_backend=gp.data.AvailableBackends.PYTORCH)"
   ]
  },
  {
   "cell_type": "code",
   "execution_count": 57,
   "metadata": {},
   "outputs": [],
   "source": [
    "geo_model_test.interpolation_options.uni_degree = 0\n",
    "geo_model_test.interpolation_options.mesh_extraction = False\n",
    "geo_model_test.interpolation_options.sigmoid_slope = 1100."
   ]
  },
  {
   "cell_type": "code",
   "execution_count": 58,
   "metadata": {},
   "outputs": [],
   "source": [
    "#geo_model_test.solutions.octrees_output[0].last_output_center"
   ]
  },
  {
   "cell_type": "code",
   "execution_count": 59,
   "metadata": {},
   "outputs": [
    {
     "data": {
      "text/plain": [
       "array([1.        , 1.        , 1.        , 1.        , 1.        ,\n",
       "       1.        , 1.        , 1.        , 1.        , 1.        ,\n",
       "       1.        , 1.        , 1.        , 1.        , 1.        ,\n",
       "       1.        , 1.        , 1.        , 1.        , 1.        ,\n",
       "       1.        , 1.        , 1.        , 1.        , 1.        ,\n",
       "       1.        , 1.        , 1.        , 1.        , 1.        ,\n",
       "       1.        , 1.        , 1.        , 1.        , 1.        ,\n",
       "       1.        , 1.        , 1.        , 1.        , 1.        ,\n",
       "       1.        , 1.        , 1.        , 1.        , 1.        ,\n",
       "       1.        , 1.        , 1.        , 1.        , 1.        ,\n",
       "       1.        , 1.        , 1.        , 1.        , 1.        ,\n",
       "       1.        , 1.        , 1.        , 1.        , 1.        ,\n",
       "       1.        , 1.        , 1.        , 1.        , 1.        ,\n",
       "       1.        , 1.        , 1.        , 1.        , 1.        ,\n",
       "       1.        , 1.        , 1.        , 1.        , 1.        ,\n",
       "       1.        , 1.        , 1.        , 1.        , 1.        ,\n",
       "       1.        , 1.        , 1.        , 1.        , 1.        ,\n",
       "       1.        , 1.        , 1.        , 1.        , 1.        ,\n",
       "       1.        , 1.        , 1.        , 1.        , 1.        ,\n",
       "       1.        , 1.        , 1.        , 1.        , 1.        ,\n",
       "       1.        , 1.        , 1.        , 1.        , 1.        ,\n",
       "       1.        , 1.        , 1.        , 1.        , 1.        ,\n",
       "       1.        , 1.        , 1.        , 1.        , 1.        ,\n",
       "       1.        , 1.        , 1.        , 1.        , 1.        ,\n",
       "       1.        , 1.        , 1.        , 1.        , 1.        ,\n",
       "       1.        , 1.        , 1.        , 1.        , 1.        ,\n",
       "       1.        , 1.        , 1.        , 1.        , 1.        ,\n",
       "       1.        , 1.00000014, 1.99999968, 2.        , 2.        ,\n",
       "       2.        , 2.        , 2.        , 2.        , 2.        ,\n",
       "       2.        , 2.        , 2.        , 2.        , 2.        ,\n",
       "       2.        , 2.        , 2.        , 2.        , 2.        ,\n",
       "       2.        , 2.        , 2.        , 2.        , 2.        ,\n",
       "       2.        , 2.        , 2.        , 2.        , 2.        ,\n",
       "       2.        , 2.        , 2.        , 2.        , 2.        ,\n",
       "       2.        , 2.        , 2.        , 2.        , 2.        ,\n",
       "       2.        , 2.        , 2.00021369, 3.        , 3.        ,\n",
       "       3.        , 3.        , 3.        , 3.        , 3.        ,\n",
       "       3.        , 3.        , 3.        , 3.        , 3.        ,\n",
       "       3.        , 3.        , 3.        , 3.        , 3.        ,\n",
       "       3.        , 3.        , 3.        , 3.        , 3.        ,\n",
       "       3.        , 3.        , 3.        , 3.        , 3.        ,\n",
       "       3.        , 3.        , 3.        , 3.        , 3.        ,\n",
       "       3.        , 3.        , 3.        , 3.        , 3.        ,\n",
       "       3.        , 3.        , 3.        , 3.        , 3.        ,\n",
       "       3.        , 3.        , 3.        , 3.        , 3.        ,\n",
       "       3.        , 3.        , 3.        , 3.        , 3.        ,\n",
       "       3.        , 3.        , 3.        , 3.        , 3.        ])"
      ]
     },
     "execution_count": 59,
     "metadata": {},
     "output_type": "execute_result"
    }
   ],
   "source": [
    "custom_grid_values = geo_model_test.solutions.octrees_output[0].last_output_center.custom_grid_values\n",
    "custom_grid_values"
   ]
  },
  {
   "cell_type": "code",
   "execution_count": 60,
   "metadata": {},
   "outputs": [
    {
     "data": {
      "text/plain": [
       "(235, 6)"
      ]
     },
     "execution_count": 60,
     "metadata": {},
     "output_type": "execute_result"
    }
   ],
   "source": [
    "y_obs_label.shape"
   ]
  },
  {
   "cell_type": "code",
   "execution_count": 61,
   "metadata": {},
   "outputs": [
    {
     "data": {
      "text/html": [
       "<table><tr><th>X</th><th>Y</th><th>Z</th><th>id</th><th>nugget</th></tr><tr><td>100.00</td><td>0.00</td><td>-825.00</td><td>79273328</td><td>0.00</td></tr><tr><td>900.00</td><td>0.00</td><td>-825.00</td><td>79273328</td><td>0.00</td></tr><tr><td>300.00</td><td>0.00</td><td>-825.00</td><td>79273328</td><td>0.00</td></tr><tr><td>100.00</td><td>0.00</td><td>-845.00</td><td>14488294</td><td>0.00</td></tr><tr><td>900.00</td><td>0.00</td><td>-845.00</td><td>14488294</td><td>0.00</td></tr><tr><td>300.00</td><td>0.00</td><td>-845.00</td><td>14488294</td><td>0.00</td></tr></table>"
      ],
      "text/plain": [
       "SurfacePointsTable(data=\n",
       "[(100., 0., -825., 79273328, 0.),(900., 0., -825., 79273328, 0.),\n",
       " (300., 0., -825., 79273328, 0.),(100., 0., -845., 14488294, 0.),\n",
       " (900., 0., -845., 14488294, 0.),(300., 0., -845., 14488294, 0.)],\n",
       "name_id_map={'surface2': 79273328, 'surface1': 14488294, 'basement': 19250914})"
      ]
     },
     "execution_count": 61,
     "metadata": {},
     "output_type": "execute_result"
    }
   ],
   "source": [
    "geo_model_test.surface_points"
   ]
  },
  {
   "cell_type": "code",
   "execution_count": 62,
   "metadata": {},
   "outputs": [
    {
     "data": {
      "text/html": [
       "<table><tr><th>X</th><th>Y</th><th>Z</th><th>G_x</th><th>G_y</th><th>G_z</th><th>id</th><th>nugget</th></tr><tr><td>500.00</td><td>0.00</td><td>-845.00</td><td>0.00</td><td>0.00</td><td>1.00</td><td>14488294</td><td>0.01</td></tr></table>"
      ],
      "text/plain": [
       "OrientationsTable(data=\n",
       "[(500., 0., -845., 0., 0., 1., 14488294, 0.01)],\n",
       "name_id_map=None)"
      ]
     },
     "execution_count": 62,
     "metadata": {},
     "output_type": "execute_result"
    }
   ],
   "source": [
    "geo_model_test.orientations"
   ]
  },
  {
   "cell_type": "code",
   "execution_count": 63,
   "metadata": {},
   "outputs": [
    {
     "data": {
      "text/plain": [
       "array([[ 100.,    0., -825.],\n",
       "       [ 900.,    0., -825.],\n",
       "       [ 300.,    0., -825.],\n",
       "       [ 100.,    0., -845.],\n",
       "       [ 900.,    0., -845.],\n",
       "       [ 300.,    0., -845.]])"
      ]
     },
     "execution_count": 63,
     "metadata": {},
     "output_type": "execute_result"
    }
   ],
   "source": [
    "geo_model_test.transform.apply_inverse(sp_coords_copy_test)"
   ]
  },
  {
   "cell_type": "code",
   "execution_count": 64,
   "metadata": {},
   "outputs": [
    {
     "data": {
      "text/plain": [
       "tensor([[0.0000, 0.0078, 0.0235, 0.0157, 0.0000, 0.0000],\n",
       "        [0.9490, 0.8667, 0.2039, 0.0000, 0.0000, 0.0000],\n",
       "        [0.9098, 0.8314, 0.1961, 0.0000, 0.0000, 0.0353],\n",
       "        ...,\n",
       "        [0.0000, 0.1255, 0.2824, 0.1843, 0.0000, 0.0667],\n",
       "        [0.0000, 0.1255, 0.2902, 0.1686, 0.0000, 0.1490],\n",
       "        [0.0000, 0.1098, 0.2471, 0.1725, 0.0000, 0.2118]], dtype=torch.float64)"
      ]
     },
     "execution_count": 64,
     "metadata": {},
     "output_type": "execute_result"
    }
   ],
   "source": [
    "y_obs_label = torch.tensor(y_obs_label.to_numpy(),dtype=torch.float64)\n",
    "y_obs_label"
   ]
  },
  {
   "cell_type": "code",
   "execution_count": 65,
   "metadata": {},
   "outputs": [
    {
     "name": "stdout",
     "output_type": "stream",
     "text": [
      "Condition number: 30555.488813314183.\n",
      "Condition number: 30555.488813314183.\n"
     ]
    },
    {
     "data": {
      "image/svg+xml": [
       "<?xml version=\"1.0\" encoding=\"UTF-8\" standalone=\"no\"?>\n",
       "<!DOCTYPE svg PUBLIC \"-//W3C//DTD SVG 1.1//EN\"\n",
       " \"http://www.w3.org/Graphics/SVG/1.1/DTD/svg11.dtd\">\n",
       "<!-- Generated by graphviz version 9.0.0 (0)\n",
       " -->\n",
       "<!-- Pages: 1 -->\n",
       "<svg width=\"423pt\" height=\"283pt\"\n",
       " viewBox=\"0.00 0.00 422.62 283.00\" xmlns=\"http://www.w3.org/2000/svg\" xmlns:xlink=\"http://www.w3.org/1999/xlink\">\n",
       "<g id=\"graph0\" class=\"graph\" transform=\"scale(1 1) rotate(0) translate(4 279)\">\n",
       "<polygon fill=\"white\" stroke=\"none\" points=\"-4,4 -4,-279 418.62,-279 418.62,4 -4,4\"/>\n",
       "<g id=\"clust1\" class=\"cluster\">\n",
       "<title>cluster_N=235</title>\n",
       "<polygon fill=\"none\" stroke=\"black\" points=\"8,-8 8,-156.5 130,-156.5 130,-8 8,-8\"/>\n",
       "<text text-anchor=\"middle\" x=\"102.88\" y=\"-15.2\" font-family=\"Times,serif\" font-size=\"14.00\">N=235</text>\n",
       "</g>\n",
       "<!-- mu_1 -->\n",
       "<g id=\"node1\" class=\"node\">\n",
       "<title>mu_1</title>\n",
       "<ellipse fill=\"white\" stroke=\"black\" cx=\"205\" cy=\"-229.75\" rx=\"32.41\" ry=\"18\"/>\n",
       "<text text-anchor=\"middle\" x=\"205\" y=\"-224.7\" font-family=\"Times,serif\" font-size=\"14.00\">mu_1</text>\n",
       "</g>\n",
       "<!-- mu_1 &gt; mu_2 -->\n",
       "<g id=\"node3\" class=\"node\">\n",
       "<title>mu_1 &gt; mu_2</title>\n",
       "<ellipse fill=\"gray\" stroke=\"black\" cx=\"205\" cy=\"-130.5\" rx=\"64.66\" ry=\"18\"/>\n",
       "<text text-anchor=\"middle\" x=\"205\" y=\"-125.45\" font-family=\"Times,serif\" font-size=\"14.00\">mu_1 &gt; mu_2</text>\n",
       "</g>\n",
       "<!-- mu_1&#45;&gt;mu_1 &gt; mu_2 -->\n",
       "<g id=\"edge1\" class=\"edge\">\n",
       "<title>mu_1&#45;&gt;mu_1 &gt; mu_2</title>\n",
       "<path fill=\"none\" stroke=\"black\" d=\"M205,-211.36C205,-197.12 205,-176.67 205,-160.04\"/>\n",
       "<polygon fill=\"black\" stroke=\"black\" points=\"208.5,-160.25 205,-150.25 201.5,-160.25 208.5,-160.25\"/>\n",
       "</g>\n",
       "<!-- assignment -->\n",
       "<g id=\"node4\" class=\"node\">\n",
       "<title>assignment</title>\n",
       "<ellipse fill=\"white\" stroke=\"black\" cx=\"69\" cy=\"-130.5\" rx=\"52.89\" ry=\"18\"/>\n",
       "<text text-anchor=\"middle\" x=\"69\" y=\"-125.45\" font-family=\"Times,serif\" font-size=\"14.00\">assignment</text>\n",
       "</g>\n",
       "<!-- mu_1&#45;&gt;assignment -->\n",
       "<g id=\"edge3\" class=\"edge\">\n",
       "<title>mu_1&#45;&gt;assignment</title>\n",
       "<path fill=\"none\" stroke=\"black\" d=\"M185.8,-215.02C163.5,-199.07 126.4,-172.54 99.99,-153.66\"/>\n",
       "<polygon fill=\"black\" stroke=\"black\" points=\"102.2,-150.94 92.03,-147.97 98.13,-156.63 102.2,-150.94\"/>\n",
       "</g>\n",
       "<!-- obs -->\n",
       "<g id=\"node5\" class=\"node\">\n",
       "<title>obs</title>\n",
       "<ellipse fill=\"gray\" stroke=\"black\" cx=\"69\" cy=\"-58.5\" rx=\"27\" ry=\"18\"/>\n",
       "<text text-anchor=\"middle\" x=\"69\" y=\"-53.45\" font-family=\"Times,serif\" font-size=\"14.00\">obs</text>\n",
       "</g>\n",
       "<!-- mu_1&#45;&gt;obs -->\n",
       "<g id=\"edge5\" class=\"edge\">\n",
       "<title>mu_1&#45;&gt;obs</title>\n",
       "<path fill=\"none\" stroke=\"black\" d=\"M218.61,-213.17C226.39,-204.49 236.47,-193.62 246,-184.5 259.89,-171.2 270.92,-173.95 279,-156.5 287.22,-138.75 291.02,-127.93 279,-112.5 258.06,-85.62 161.55,-70.24 106.94,-63.55\"/>\n",
       "<polygon fill=\"black\" stroke=\"black\" points=\"107.49,-60.09 97.15,-62.39 106.67,-67.04 107.49,-60.09\"/>\n",
       "</g>\n",
       "<!-- mu_2 -->\n",
       "<g id=\"node2\" class=\"node\">\n",
       "<title>mu_2</title>\n",
       "<ellipse fill=\"white\" stroke=\"black\" cx=\"69\" cy=\"-229.75\" rx=\"32.41\" ry=\"18\"/>\n",
       "<text text-anchor=\"middle\" x=\"69\" y=\"-224.7\" font-family=\"Times,serif\" font-size=\"14.00\">mu_2</text>\n",
       "</g>\n",
       "<!-- mu_2&#45;&gt;mu_1 &gt; mu_2 -->\n",
       "<g id=\"edge2\" class=\"edge\">\n",
       "<title>mu_2&#45;&gt;mu_1 &gt; mu_2</title>\n",
       "<path fill=\"none\" stroke=\"black\" d=\"M88.2,-215.02C110.24,-199.26 146.74,-173.16 173.08,-154.33\"/>\n",
       "<polygon fill=\"black\" stroke=\"black\" points=\"174.94,-157.29 181.04,-148.63 170.87,-151.6 174.94,-157.29\"/>\n",
       "</g>\n",
       "<!-- mu_2&#45;&gt;assignment -->\n",
       "<g id=\"edge4\" class=\"edge\">\n",
       "<title>mu_2&#45;&gt;assignment</title>\n",
       "<path fill=\"none\" stroke=\"black\" d=\"M69,-211.36C69,-197.12 69,-176.67 69,-160.04\"/>\n",
       "<polygon fill=\"black\" stroke=\"black\" points=\"72.5,-160.25 69,-150.25 65.5,-160.25 72.5,-160.25\"/>\n",
       "</g>\n",
       "<!-- mu_2&#45;&gt;obs -->\n",
       "<g id=\"edge6\" class=\"edge\">\n",
       "<title>mu_2&#45;&gt;obs</title>\n",
       "<path fill=\"none\" stroke=\"black\" d=\"M50.94,-214.33C35.95,-201.11 15.72,-180.06 7,-156.5 0.21,-138.16 -1.18,-130.26 7,-112.5 13.75,-97.84 26.78,-85.73 39.15,-76.81\"/>\n",
       "<polygon fill=\"black\" stroke=\"black\" points=\"40.77,-79.94 47.12,-71.46 36.87,-74.13 40.77,-79.94\"/>\n",
       "</g>\n",
       "<!-- assignment&#45;&gt;obs -->\n",
       "<g id=\"edge7\" class=\"edge\">\n",
       "<title>assignment&#45;&gt;obs</title>\n",
       "<path fill=\"none\" stroke=\"black\" d=\"M69,-112.2C69,-104.91 69,-96.23 69,-88.04\"/>\n",
       "<polygon fill=\"black\" stroke=\"black\" points=\"72.5,-88.12 69,-78.12 65.5,-88.12 72.5,-88.12\"/>\n",
       "</g>\n",
       "<!-- distribution_description_node -->\n",
       "<g id=\"node6\" class=\"node\">\n",
       "<title>distribution_description_node</title>\n",
       "<text text-anchor=\"start\" x=\"263.38\" y=\"-257.7\" font-family=\"Times,serif\" font-size=\"14.00\">mu_1 ~ Normal</text>\n",
       "<text text-anchor=\"start\" x=\"263.38\" y=\"-241.2\" font-family=\"Times,serif\" font-size=\"14.00\">mu_2 ~ Normal</text>\n",
       "<text text-anchor=\"start\" x=\"263.38\" y=\"-224.7\" font-family=\"Times,serif\" font-size=\"14.00\">mu_1 &gt; mu_2 ~ Delta</text>\n",
       "<text text-anchor=\"start\" x=\"263.38\" y=\"-208.2\" font-family=\"Times,serif\" font-size=\"14.00\">assignment ~ Categorical</text>\n",
       "<text text-anchor=\"start\" x=\"263.38\" y=\"-191.7\" font-family=\"Times,serif\" font-size=\"14.00\">obs ~ MultivariateNormal</text>\n",
       "</g>\n",
       "</g>\n",
       "</svg>\n"
      ],
      "text/plain": [
       "<graphviz.graphs.Digraph at 0x33a34c8e0>"
      ]
     },
     "execution_count": 65,
     "metadata": {},
     "output_type": "execute_result"
    }
   ],
   "source": [
    "\n",
    "\n",
    "\n",
    "@config_enumerate\n",
    "def model_test(y_obs_label):\n",
    "    \"\"\"\n",
    "    This Pyro model represents the probabilistic aspects of the geological model.\n",
    "    It defines a prior distribution for the top layer's location and\n",
    "    computes the thickness of the geological layer as an observed variable.\n",
    "    \"\"\"\n",
    "    # Define prior for the top layer's location\n",
    "    prior_mean_surface_1 = sp_coords_copy_test[2, 2]\n",
    "    prior_mean_surface_2 = sp_coords_copy_test[5, 2]\n",
    "    \n",
    "    \n",
    "\n",
    "    mu_surface_1 = pyro.sample('mu_1', dist.Normal(prior_mean_surface_1, torch.tensor(0.02, dtype=torch.float64)))\n",
    "    mu_surface_2 = pyro.sample('mu_2', dist.Normal(prior_mean_surface_2, torch.tensor(0.02, dtype=torch.float64)))    \n",
    "    \n",
    "    \n",
    "    # Ensure that mu_surface_1 is greater than mu_surface_2\n",
    "    pyro.sample('mu_1 > mu_2', dist.Delta(torch.tensor(1.0, dtype=torch.float64)), obs=(mu_surface_1 > mu_surface_2))\n",
    "    # Update the model with the new top layer's location\n",
    "    interpolation_input = geo_model_test.interpolation_input\n",
    "    \n",
    "    \n",
    "    interpolation_input.surface_points.sp_coords = torch.index_put(\n",
    "        interpolation_input.surface_points.sp_coords,\n",
    "        (torch.tensor([2]), torch.tensor([2])),\n",
    "        mu_surface_1\n",
    "    )\n",
    "    interpolation_input.surface_points.sp_coords = torch.index_put(\n",
    "        interpolation_input.surface_points.sp_coords,\n",
    "        (torch.tensor([5]), torch.tensor([2])),\n",
    "        mu_surface_2\n",
    "    )\n",
    "    \n",
    "    \n",
    "    # # Compute the geological model\n",
    "    geo_model_test.solutions = gempy_engine.compute_model(\n",
    "        interpolation_input=interpolation_input,\n",
    "        options=geo_model_test.interpolation_options,\n",
    "        data_descriptor=geo_model_test.input_data_descriptor,\n",
    "        geophysics_input=geo_model_test.geophysics_input,\n",
    "    )\n",
    "    \n",
    "    # Compute and observe the thickness of the geological layer\n",
    "    \n",
    "    custom_grid_values = geo_model_test.solutions.octrees_output[0].last_output_center.custom_grid_values\n",
    "    \n",
    "    lambda_ = 20\n",
    "    # #class_label = F.softmax(-lambda_* (torch.tensor([1,2,3], dtype=torch.float64) - custom_grid_values.reshape(-1,1))**2, dim=1)\n",
    "    z_nk = F.softmax(-lambda_* (torch.tensor([1,2,3], dtype=torch.float64) - custom_grid_values.reshape(-1,1))**2, dim=1)\n",
    "    # #class_label = torch.mean(F.softmax(-lambda_* (torch.tensor([1,2,3,4,5,6], dtype=torch.float64) - custom_grid_values.reshape(-1,1))**2, dim=1),dim=0)\n",
    "    \n",
    "    N_k = torch.sum(z_nk,axis=0)\n",
    "    N = len(custom_grid_values)\n",
    "    pi_k = N_k /N\n",
    "    #print(pi_k)\n",
    "    mean = []\n",
    "    cov = []\n",
    "    for i in range(z_nk.shape[1]):\n",
    "        mean_k = torch.sum( z_nk[:,i][:,None] * y_obs_label, axis=0)/ N_k[i]\n",
    "        #cov_k = torch.sum( (normalised_hsi - mean_k.reshape((-1,1))) (normalised_hsi - mean_k).T )\n",
    "        cov_k = torch.zeros((mean_k.shape[0],mean_k.shape[0]),dtype=torch.float64)\n",
    "        for j in range(z_nk.shape[0]):\n",
    "                cov_k +=  z_nk[j,i]* torch.matmul((y_obs_label[j,:] - mean_k).reshape((-1,1)) ,(y_obs_label[j,:] - mean_k).reshape((1,-1)))\n",
    "        mean.append(mean_k)\n",
    "        cov_k=cov_k/N_k[i] + 1e-5 * torch.diag(torch.ones(cov_k.shape[0],dtype=torch.float64))\n",
    "        cov.append(cov_k)\n",
    "    mean_tensor = torch.stack(mean, dim=0)\n",
    "    cov_tensor = torch.stack(cov,dim=0)\n",
    "    \n",
    "    \n",
    "    with pyro.plate('N='+str(y_obs_label.shape[0]), y_obs_label.shape[0]):\n",
    "        assignment = pyro.sample(\"assignment\", dist.Categorical(pi_k))\n",
    "        \n",
    "        obs = pyro.sample(\"obs\", dist.MultivariateNormal(loc=mean_tensor[assignment],covariance_matrix=cov_tensor[assignment]), obs=y_obs_label)\n",
    "        \n",
    "    return obs\n",
    "dependencies = get_dependencies(model_test, model_args=(y_obs_label,))\n",
    "pyro.render_model(model_test, model_args=(y_obs_label,),render_distributions=True)"
   ]
  },
  {
   "cell_type": "code",
   "execution_count": 66,
   "metadata": {},
   "outputs": [
    {
     "name": "stdout",
     "output_type": "stream",
     "text": [
      "torch.Size([235, 6])\n",
      "Condition number: 30555.4888133142.\n"
     ]
    },
    {
     "data": {
      "text/plain": [
       "tensor([[0.0000, 0.0078, 0.0235, 0.0157, 0.0000, 0.0000],\n",
       "        [0.9490, 0.8667, 0.2039, 0.0000, 0.0000, 0.0000],\n",
       "        [0.9098, 0.8314, 0.1961, 0.0000, 0.0000, 0.0353],\n",
       "        ...,\n",
       "        [0.0000, 0.1255, 0.2824, 0.1843, 0.0000, 0.0667],\n",
       "        [0.0000, 0.1255, 0.2902, 0.1686, 0.0000, 0.1490],\n",
       "        [0.0000, 0.1098, 0.2471, 0.1725, 0.0000, 0.2118]], dtype=torch.float64)"
      ]
     },
     "execution_count": 66,
     "metadata": {},
     "output_type": "execute_result"
    }
   ],
   "source": [
    "print( y_obs_label.shape)\n",
    "model_test(y_obs_label)"
   ]
  },
  {
   "cell_type": "code",
   "execution_count": 67,
   "metadata": {},
   "outputs": [
    {
     "name": "stdout",
     "output_type": "stream",
     "text": [
      "Condition number: 54451.46512301774.\n",
      "Condition number: 38076.31051288945.\n",
      "Condition number: 51291.490813803524.\n",
      "Condition number: 54111.09952714888.\n",
      "Condition number: 21343.887006294888.\n",
      "Condition number: 49587.90023245943.\n",
      "Condition number: 46767.06960803838.\n",
      "Condition number: 38163.523894160804.\n",
      "Condition number: 33840.089748033286.\n",
      "Condition number: 21308.878433630132.\n",
      "Condition number: 38761.204598390264.\n",
      "Condition number: 30692.960380958797.\n",
      "Condition number: 54554.03794012179.\n",
      "Condition number: 35620.635485742605.\n",
      "Condition number: 21737.16425088974.\n",
      "Condition number: 21310.127578426982.\n",
      "Condition number: 34958.788569366996.\n",
      "Condition number: 27044.645684406973.\n",
      "Condition number: 28388.71099377312.\n",
      "Condition number: 37790.67246262984.\n",
      "Condition number: 31525.357624599954.\n",
      "Condition number: 53700.05059758129.\n",
      "Condition number: 35922.63008924788.\n",
      "Condition number: 44482.88897824233.\n",
      "Condition number: 21224.440389807958.\n",
      "Condition number: 50338.777397457176.\n",
      "Condition number: 47449.62874013023.\n",
      "Condition number: 29539.974111161602.\n",
      "Condition number: 52963.25414411718.\n",
      "Condition number: 31778.973029904602.\n",
      "Condition number: 53872.21302882.\n",
      "Condition number: 38890.39009174653.\n",
      "Condition number: 32597.48628720142.\n",
      "Condition number: 30282.539780671952.\n",
      "Condition number: 29678.71257590519.\n",
      "Condition number: 21264.58448938117.\n",
      "Condition number: 22458.402017167304.\n",
      "Condition number: 21253.293128886904.\n",
      "Condition number: 41174.771566508505.\n",
      "Condition number: 40065.23132669305.\n",
      "Condition number: 52139.19802045093.\n",
      "Condition number: 21904.384066582385.\n",
      "Condition number: 21195.915965177297.\n",
      "Condition number: 31075.20656765485.\n",
      "Condition number: 30217.38589727144.\n",
      "Condition number: 48942.14141184098.\n",
      "Condition number: 33906.67293000541.\n",
      "Condition number: 29733.82050842293.\n",
      "Condition number: 40135.37408199621.\n",
      "Condition number: 48564.706355269824.\n",
      "Condition number: 39605.9551471918.\n",
      "Condition number: 21305.16079930705.\n",
      "Condition number: 24710.994050849746.\n",
      "Condition number: 25693.68002422256.\n",
      "Condition number: 31413.65724851351.\n",
      "Condition number: 44228.7277211587.\n",
      "Condition number: 24213.954863025385.\n",
      "Condition number: 51725.930245319534.\n",
      "Condition number: 53024.90423197651.\n",
      "Condition number: 21807.36764160052.\n",
      "Condition number: 23577.02845739462.\n",
      "Condition number: 31435.9628639064.\n",
      "Condition number: 32273.14140201995.\n",
      "Condition number: 36684.348289593276.\n",
      "Condition number: 21503.36655681271.\n",
      "Condition number: 21146.429913223536.\n",
      "Condition number: 39980.94130073623.\n",
      "Condition number: 50997.86563704019.\n",
      "Condition number: 53036.54564483083.\n",
      "Condition number: 21640.08123091725.\n",
      "Condition number: 22317.280122747477.\n",
      "Condition number: 27038.33920056363.\n",
      "Condition number: 54345.97329683327.\n",
      "Condition number: 46110.77500167831.\n",
      "Condition number: 43567.35836502703.\n",
      "Condition number: 21373.21505523114.\n",
      "Condition number: 21655.088075992233.\n",
      "Condition number: 53661.11408167454.\n",
      "Condition number: 54576.74260733922.\n",
      "Condition number: 29581.194467854435.\n",
      "Condition number: 44953.294429373556.\n",
      "Condition number: 25644.15199714727.\n",
      "Condition number: 29808.542224804198.\n",
      "Condition number: 24026.959931003265.\n",
      "Condition number: 38426.96223721198.\n",
      "Condition number: 48671.56013980433.\n",
      "Condition number: 38822.86762143074.\n",
      "Condition number: 54365.054885269725.\n",
      "Condition number: 52062.337245864204.\n",
      "Condition number: 21260.60711409099.\n",
      "Condition number: 43047.97377084469.\n",
      "Condition number: 53873.97595640869.\n",
      "Condition number: 48922.90504750035.\n",
      "Condition number: 43666.1085590963.\n",
      "Condition number: 20832.177638815745.\n",
      "Condition number: 45469.76065077888.\n",
      "Condition number: 20987.116008980876.\n",
      "Condition number: 32644.001338544258.\n",
      "Condition number: 28649.217226033066.\n",
      "Condition number: 52540.76697269211.\n",
      "Condition number: 46938.60717335389.\n",
      "Condition number: 31287.933225845758.\n"
     ]
    },
    {
     "name": "stderr",
     "output_type": "stream",
     "text": [
      "/Users/deepprakashravi/miniforge3/envs/gempy3/lib/python3.10/site-packages/arviz/stats/density_utils.py:487: UserWarning: Your data appears to have a single value or no finite values\n",
      "  warnings.warn(\"Your data appears to have a single value or no finite values\")\n"
     ]
    },
    {
     "data": {
      "image/png": "[encoded data removed]",
      "text/plain": [
       "<Figure size 1200x800 with 8 Axes>"
      ]
     },
     "metadata": {},
     "output_type": "display_data"
    }
   ],
   "source": [
    "prior = Predictive(model_test, num_samples=100)(y_obs_label)\n",
    "\n",
    "# Key to avoid\n",
    "avoid_key = 'mu_1 > mu_2'\n",
    "\n",
    "# Create sub-dictionary without the avoid_key\n",
    "prior = dict((key, value) for key, value in prior.items() if key != avoid_key)\n",
    "\n",
    "data = az.from_pyro(prior=prior)\n",
    "az.plot_trace(data.prior)\n",
    "plt.show()"
   ]
  },
  {
   "cell_type": "code",
   "execution_count": 68,
   "metadata": {},
   "outputs": [
    {
     "name": "stderr",
     "output_type": "stream",
     "text": [
      "Warmup:   0%|          | 0/250 [00:00, ?it/s]"
     ]
    },
    {
     "name": "stdout",
     "output_type": "stream",
     "text": [
      "Condition number: 37152.45679940161.\n",
      "Condition number: 52007.3427657542.\n",
      "Condition number: 52007.3427657542.\n",
      "Condition number: 52007.3427657542.\n",
      "Condition number: 52007.3427657542.\n",
      "Condition number: 52007.3427657542.\n",
      "Condition number: 52007.3427657542.\n",
      "Condition number: 52007.3427657542.\n",
      "Condition number: 52007.3427657542.\n",
      "Condition number: 52007.3427657542.\n",
      "Condition number: 52007.3427657542.\n",
      "Condition number: 52007.3427657542.\n",
      "Condition number: 52007.3427657542.\n",
      "Condition number: 52007.3427657542.\n",
      "Condition number: 52007.3427657542.\n",
      "Condition number: 52007.3427657542.\n",
      "Condition number: 52007.3427657542.\n",
      "Condition number: 52007.3427657542.\n",
      "Condition number: 52007.3427657542.\n",
      "Condition number: 52007.3427657542.\n",
      "Condition number: 52007.3427657542.\n",
      "Condition number: 52007.3427657542.\n",
      "Condition number: 52007.3427657542.\n",
      "Condition number: 52007.3427657542.\n",
      "Condition number: 52007.3427657542.\n",
      "Condition number: 52007.3427657542.\n",
      "Condition number: 52007.3427657542.\n",
      "Condition number: 52007.3427657542.\n",
      "Condition number: 52007.3427657542.\n",
      "Condition number: 52007.3427657542.\n",
      "Condition number: 52007.3427657542.\n",
      "Condition number: 52007.3427657542.\n",
      "Condition number: 52007.3427657542.\n",
      "Condition number: 52007.3427657542.\n",
      "Condition number: 52007.3427657542.\n",
      "Condition number: 52007.3427657542.\n",
      "Condition number: 52007.3427657542.\n",
      "Condition number: 52007.3427657542.\n",
      "Condition number: 52007.3427657542.\n",
      "Condition number: 52007.3427657542.\n",
      "Condition number: 52007.3427657542.\n",
      "Condition number: 52007.3427657542.\n",
      "Condition number: 52007.3427657542.\n",
      "Condition number: 52007.3427657542.\n",
      "Condition number: 52007.3427657542.\n",
      "Condition number: 52007.3427657542.\n",
      "Condition number: 52007.3427657542.\n",
      "Condition number: 52007.3427657542.\n",
      "Condition number: 52007.3427657542.\n",
      "Condition number: 52007.3427657542.\n",
      "Condition number: 52007.3427657542.\n",
      "Condition number: 52007.3427657542.\n",
      "Condition number: 52007.3427657542.\n",
      "Condition number: 52007.3427657542.\n",
      "Condition number: 52007.3427657542.\n",
      "Condition number: 52007.3427657542.\n",
      "Condition number: 52007.3427657542.\n",
      "Condition number: 52007.3427657542.\n",
      "Condition number: 52007.3427657542.\n",
      "Condition number: 52007.3427657542.\n",
      "Condition number: 52007.3427657542.\n",
      "Condition number: 52007.3427657542.\n",
      "Condition number: 52007.3427657542.\n",
      "Condition number: 52007.3427657542.\n",
      "Condition number: 52007.3427657542.\n",
      "Condition number: 52007.3427657542.\n",
      "Condition number: 52007.3427657542.\n",
      "Condition number: 52007.3427657542.\n",
      "Condition number: 52007.3427657542.\n",
      "Condition number: 52007.3427657542.\n",
      "Condition number: 52007.3427657542.\n",
      "Condition number: 52007.3427657542.\n",
      "Condition number: 52007.3427657542.\n",
      "Condition number: 52007.3427657542.\n",
      "Condition number: 52007.3427657542.\n",
      "Condition number: 52007.3427657542.\n",
      "Condition number: 52007.3427657542.\n",
      "Condition number: 52007.3427657542.\n",
      "Condition number: 52007.3427657542.\n",
      "Condition number: 52007.3427657542.\n",
      "Condition number: 52007.3427657542.\n",
      "Condition number: 52007.3427657542.\n",
      "Condition number: 52007.3427657542.\n",
      "Condition number: 52007.3427657542.\n",
      "Condition number: 52007.3427657542.\n",
      "Condition number: 52007.3427657542.\n",
      "Condition number: 52007.3427657542.\n",
      "Condition number: 52007.3427657542.\n",
      "Condition number: 52007.3427657542.\n",
      "Condition number: 52007.3427657542.\n",
      "Condition number: 52007.3427657542.\n",
      "Condition number: 52007.3427657542.\n",
      "Condition number: 52007.3427657542.\n",
      "Condition number: 52007.3427657542.\n",
      "Condition number: 52007.3427657542.\n",
      "Condition number: 52007.3427657542.\n",
      "Condition number: 52007.3427657542.\n",
      "Condition number: 52007.3427657542.\n",
      "Condition number: 52007.3427657542.\n",
      "Condition number: 52007.3427657542.\n",
      "Condition number: 52007.3427657542.\n",
      "Condition number: 52007.3427657542.\n",
      "Condition number: 52007.3427657542.\n",
      "Condition number: 52007.3427657542.\n",
      "Condition number: 52007.3427657542.\n",
      "Condition number: 52007.3427657542.\n",
      "Condition number: 52007.3427657542.\n",
      "Condition number: 52007.3427657542.\n",
      "Condition number: 52007.3427657542.\n",
      "Condition number: 52007.3427657542.\n",
      "Condition number: 52007.3427657542.\n",
      "Condition number: 52007.3427657542.\n",
      "Condition number: 52007.3427657542.\n",
      "Condition number: 52007.3427657542.\n",
      "Condition number: 52007.3427657542.\n",
      "Condition number: 52007.3427657542.\n",
      "Condition number: 52007.3427657542.\n",
      "Condition number: 52007.3427657542.\n",
      "Condition number: 52007.3427657542.\n",
      "Condition number: 52007.3427657542.\n",
      "Condition number: 52007.3427657542.\n",
      "Condition number: 52007.3427657542.\n",
      "Condition number: 52007.3427657542.\n",
      "Condition number: 52007.3427657542.\n",
      "Condition number: 52007.3427657542.\n",
      "Condition number: 52007.3427657542.\n",
      "Condition number: 52007.3427657542.\n",
      "Condition number: 52007.3427657542.\n",
      "Condition number: 52007.3427657542.\n",
      "Condition number: 52007.3427657542.\n",
      "Condition number: 52007.3427657542.\n",
      "Condition number: 52007.3427657542.\n",
      "Condition number: 52007.3427657542.\n",
      "Condition number: 52007.3427657542.\n",
      "Condition number: 52007.3427657542.\n",
      "Condition number: 52007.3427657542.\n",
      "Condition number: 52007.3427657542.\n",
      "Condition number: 52007.3427657542.\n",
      "Condition number: 52007.3427657542.\n",
      "Condition number: 52007.3427657542.\n",
      "Condition number: 52007.3427657542.\n",
      "Condition number: 52007.3427657542.\n",
      "Condition number: 52007.3427657542.\n",
      "Condition number: 52007.3427657542.\n",
      "Condition number: 52007.3427657542.\n",
      "Condition number: 52007.3427657542.\n",
      "Condition number: 52007.3427657542.\n",
      "Condition number: 52007.3427657542.\n",
      "Condition number: 52007.3427657542.\n",
      "Condition number: 52007.3427657542.\n",
      "Condition number: 52007.3427657542.\n",
      "Condition number: 52007.3427657542.\n",
      "Condition number: 52007.3427657542.\n",
      "Condition number: 52007.3427657542.\n",
      "Condition number: 52007.3427657542.\n",
      "Condition number: 52007.3427657542.\n",
      "Condition number: 52007.3427657542.\n",
      "Condition number: 52007.3427657542.\n",
      "Condition number: 52007.3427657542.\n",
      "Condition number: 52007.3427657542.\n",
      "Condition number: 52007.3427657542.\n",
      "Condition number: 52007.3427657542.\n",
      "Condition number: 52007.3427657542.\n",
      "Condition number: 52007.3427657542.\n",
      "Condition number: 52007.3427657542.\n",
      "Condition number: 52007.3427657542.\n",
      "Condition number: 52007.3427657542.\n",
      "Condition number: 52007.3427657542.\n",
      "Condition number: 52007.3427657542.\n",
      "Condition number: 52007.3427657542.\n",
      "Condition number: 52007.3427657542.\n",
      "Condition number: 52007.3427657542.\n",
      "Condition number: 52007.3427657542.\n",
      "Condition number: 52007.3427657542.\n",
      "Condition number: 52007.3427657542.\n",
      "Condition number: 52007.3427657542.\n",
      "Condition number: 52007.3427657542.\n",
      "Condition number: 52007.3427657542.\n",
      "Condition number: 52007.3427657542.\n",
      "Condition number: 52007.3427657542.\n",
      "Condition number: 52007.3427657542.\n",
      "Condition number: 52007.3427657542.\n",
      "Condition number: 52007.3427657542.\n",
      "Condition number: 52007.3427657542.\n",
      "Condition number: 52007.3427657542.\n",
      "Condition number: 52007.3427657542.\n",
      "Condition number: 52007.3427657542.\n",
      "Condition number: 52007.3427657542.\n",
      "Condition number: 52007.3427657542.\n",
      "Condition number: 52007.3427657542.\n",
      "Condition number: 52007.3427657542.\n",
      "Condition number: 52007.3427657542.\n",
      "Condition number: 52007.3427657542.\n",
      "Condition number: 52007.3427657542.\n",
      "Condition number: 52007.3427657542.\n",
      "Condition number: 52007.3427657542.\n",
      "Condition number: 52007.3427657542.\n",
      "Condition number: 52007.3427657542.\n",
      "Condition number: 52007.3427657542.\n",
      "Condition number: 52007.3427657542.\n",
      "Condition number: 52007.3427657542.\n"
     ]
    },
    {
     "ename": "ValueError",
     "evalue": "Model specification seems incorrect - cannot find valid initial params.",
     "output_type": "error",
     "traceback": [
      "\u001b[0;31m---------------------------------------------------------------------------\u001b[0m",
      "\u001b[0;31mValueError\u001b[0m                                Traceback (most recent call last)",
      "Cell \u001b[0;32mIn[68], line 8\u001b[0m\n\u001b[1;32m      6\u001b[0m \u001b[38;5;66;03m#mcmc = MCMC(nuts_kernel, num_samples=200, warmup_steps=50, disable_validation=False, initial_params=initial_values)\u001b[39;00m\n\u001b[1;32m      7\u001b[0m mcmc \u001b[38;5;241m=\u001b[39m MCMC(nuts_kernel, num_samples\u001b[38;5;241m=\u001b[39m\u001b[38;5;241m200\u001b[39m, warmup_steps\u001b[38;5;241m=\u001b[39m\u001b[38;5;241m50\u001b[39m, disable_validation\u001b[38;5;241m=\u001b[39m\u001b[38;5;28;01mFalse\u001b[39;00m)\n\u001b[0;32m----> 8\u001b[0m \u001b[43mmcmc\u001b[49m\u001b[38;5;241;43m.\u001b[39;49m\u001b[43mrun\u001b[49m\u001b[43m(\u001b[49m\u001b[43my_obs_label\u001b[49m\u001b[43m)\u001b[49m\n",
      "File \u001b[0;32m~/miniforge3/envs/gempy3/lib/python3.10/site-packages/pyro/poutine/messenger.py:32\u001b[0m, in \u001b[0;36m_context_wrap\u001b[0;34m(context, fn, *args, **kwargs)\u001b[0m\n\u001b[1;32m     25\u001b[0m \u001b[38;5;28;01mdef\u001b[39;00m \u001b[38;5;21m_context_wrap\u001b[39m(\n\u001b[1;32m     26\u001b[0m     context: \u001b[38;5;124m\"\u001b[39m\u001b[38;5;124mMessenger\u001b[39m\u001b[38;5;124m\"\u001b[39m,\n\u001b[1;32m     27\u001b[0m     fn: Callable,\n\u001b[1;32m     28\u001b[0m     \u001b[38;5;241m*\u001b[39margs: Any,\n\u001b[1;32m     29\u001b[0m     \u001b[38;5;241m*\u001b[39m\u001b[38;5;241m*\u001b[39mkwargs: Any,\n\u001b[1;32m     30\u001b[0m ) \u001b[38;5;241m-\u001b[39m\u001b[38;5;241m>\u001b[39m Any:\n\u001b[1;32m     31\u001b[0m     \u001b[38;5;28;01mwith\u001b[39;00m context:\n\u001b[0;32m---> 32\u001b[0m         \u001b[38;5;28;01mreturn\u001b[39;00m \u001b[43mfn\u001b[49m\u001b[43m(\u001b[49m\u001b[38;5;241;43m*\u001b[39;49m\u001b[43margs\u001b[49m\u001b[43m,\u001b[49m\u001b[43m \u001b[49m\u001b[38;5;241;43m*\u001b[39;49m\u001b[38;5;241;43m*\u001b[39;49m\u001b[43mkwargs\u001b[49m\u001b[43m)\u001b[49m\n",
      "File \u001b[0;32m~/miniforge3/envs/gempy3/lib/python3.10/site-packages/pyro/infer/mcmc/api.py:565\u001b[0m, in \u001b[0;36mMCMC.run\u001b[0;34m(self, *args, **kwargs)\u001b[0m\n\u001b[1;32m    556\u001b[0m \u001b[38;5;28;01mwith\u001b[39;00m optional(\n\u001b[1;32m    557\u001b[0m     pyro\u001b[38;5;241m.\u001b[39mvalidation_enabled(\u001b[38;5;129;01mnot\u001b[39;00m \u001b[38;5;28mself\u001b[39m\u001b[38;5;241m.\u001b[39mdisable_validation),\n\u001b[1;32m    558\u001b[0m     \u001b[38;5;28mself\u001b[39m\u001b[38;5;241m.\u001b[39mdisable_validation \u001b[38;5;129;01mis\u001b[39;00m \u001b[38;5;129;01mnot\u001b[39;00m \u001b[38;5;28;01mNone\u001b[39;00m,\n\u001b[0;32m   (...)\u001b[0m\n\u001b[1;32m    562\u001b[0m     \u001b[38;5;66;03m# This also resolves \"RuntimeError: Cowardly refusing to serialize non-leaf tensor which\u001b[39;00m\n\u001b[1;32m    563\u001b[0m     \u001b[38;5;66;03m# requires_grad\", which happens with `jit_compile` under PyTorch 1.7\u001b[39;00m\n\u001b[1;32m    564\u001b[0m     args \u001b[38;5;241m=\u001b[39m [arg\u001b[38;5;241m.\u001b[39mdetach() \u001b[38;5;28;01mif\u001b[39;00m torch\u001b[38;5;241m.\u001b[39mis_tensor(arg) \u001b[38;5;28;01melse\u001b[39;00m arg \u001b[38;5;28;01mfor\u001b[39;00m arg \u001b[38;5;129;01min\u001b[39;00m args]\n\u001b[0;32m--> 565\u001b[0m     \u001b[38;5;28;01mfor\u001b[39;00m x, chain_id \u001b[38;5;129;01min\u001b[39;00m \u001b[38;5;28mself\u001b[39m\u001b[38;5;241m.\u001b[39msampler\u001b[38;5;241m.\u001b[39mrun(\u001b[38;5;241m*\u001b[39margs, \u001b[38;5;241m*\u001b[39m\u001b[38;5;241m*\u001b[39mkwargs):\n\u001b[1;32m    566\u001b[0m         \u001b[38;5;28;01mif\u001b[39;00m num_samples[chain_id] \u001b[38;5;241m==\u001b[39m \u001b[38;5;241m0\u001b[39m:\n\u001b[1;32m    567\u001b[0m             num_samples[chain_id] \u001b[38;5;241m+\u001b[39m\u001b[38;5;241m=\u001b[39m \u001b[38;5;241m1\u001b[39m\n",
      "File \u001b[0;32m~/miniforge3/envs/gempy3/lib/python3.10/site-packages/pyro/infer/mcmc/api.py:225\u001b[0m, in \u001b[0;36m_UnarySampler.run\u001b[0;34m(self, *args, **kwargs)\u001b[0m\n\u001b[1;32m    223\u001b[0m logger \u001b[38;5;241m=\u001b[39m initialize_logger(logger, \u001b[38;5;124m\"\u001b[39m\u001b[38;5;124m\"\u001b[39m, progress_bar)\n\u001b[1;32m    224\u001b[0m hook_w_logging \u001b[38;5;241m=\u001b[39m _add_logging_hook(logger, progress_bar, \u001b[38;5;28mself\u001b[39m\u001b[38;5;241m.\u001b[39mhook)\n\u001b[0;32m--> 225\u001b[0m \u001b[38;5;28;01mfor\u001b[39;00m sample \u001b[38;5;129;01min\u001b[39;00m _gen_samples(\n\u001b[1;32m    226\u001b[0m     \u001b[38;5;28mself\u001b[39m\u001b[38;5;241m.\u001b[39mkernel,\n\u001b[1;32m    227\u001b[0m     \u001b[38;5;28mself\u001b[39m\u001b[38;5;241m.\u001b[39mwarmup_steps,\n\u001b[1;32m    228\u001b[0m     \u001b[38;5;28mself\u001b[39m\u001b[38;5;241m.\u001b[39mnum_samples,\n\u001b[1;32m    229\u001b[0m     hook_w_logging,\n\u001b[1;32m    230\u001b[0m     i \u001b[38;5;28;01mif\u001b[39;00m \u001b[38;5;28mself\u001b[39m\u001b[38;5;241m.\u001b[39mnum_chains \u001b[38;5;241m>\u001b[39m \u001b[38;5;241m1\u001b[39m \u001b[38;5;28;01melse\u001b[39;00m \u001b[38;5;28;01mNone\u001b[39;00m,\n\u001b[1;32m    231\u001b[0m     \u001b[38;5;241m*\u001b[39margs,\n\u001b[1;32m    232\u001b[0m     \u001b[38;5;241m*\u001b[39m\u001b[38;5;241m*\u001b[39mkwargs\n\u001b[1;32m    233\u001b[0m ):\n\u001b[1;32m    234\u001b[0m     \u001b[38;5;28;01myield\u001b[39;00m sample, i  \u001b[38;5;66;03m# sample, chain_id\u001b[39;00m\n\u001b[1;32m    235\u001b[0m \u001b[38;5;28mself\u001b[39m\u001b[38;5;241m.\u001b[39mkernel\u001b[38;5;241m.\u001b[39mcleanup()\n",
      "File \u001b[0;32m~/miniforge3/envs/gempy3/lib/python3.10/site-packages/pyro/infer/mcmc/api.py:146\u001b[0m, in \u001b[0;36m_gen_samples\u001b[0;34m(kernel, warmup_steps, num_samples, hook, chain_id, *args, **kwargs)\u001b[0m\n\u001b[1;32m    145\u001b[0m \u001b[38;5;28;01mdef\u001b[39;00m \u001b[38;5;21m_gen_samples\u001b[39m(kernel, warmup_steps, num_samples, hook, chain_id, \u001b[38;5;241m*\u001b[39margs, \u001b[38;5;241m*\u001b[39m\u001b[38;5;241m*\u001b[39mkwargs):\n\u001b[0;32m--> 146\u001b[0m     \u001b[43mkernel\u001b[49m\u001b[38;5;241;43m.\u001b[39;49m\u001b[43msetup\u001b[49m\u001b[43m(\u001b[49m\u001b[43mwarmup_steps\u001b[49m\u001b[43m,\u001b[49m\u001b[43m \u001b[49m\u001b[38;5;241;43m*\u001b[39;49m\u001b[43margs\u001b[49m\u001b[43m,\u001b[49m\u001b[43m \u001b[49m\u001b[38;5;241;43m*\u001b[39;49m\u001b[38;5;241;43m*\u001b[39;49m\u001b[43mkwargs\u001b[49m\u001b[43m)\u001b[49m\n\u001b[1;32m    147\u001b[0m     params \u001b[38;5;241m=\u001b[39m kernel\u001b[38;5;241m.\u001b[39minitial_params\n\u001b[1;32m    148\u001b[0m     save_params \u001b[38;5;241m=\u001b[39m \u001b[38;5;28mgetattr\u001b[39m(kernel, \u001b[38;5;124m\"\u001b[39m\u001b[38;5;124msave_params\u001b[39m\u001b[38;5;124m\"\u001b[39m, \u001b[38;5;28msorted\u001b[39m(params))\n",
      "File \u001b[0;32m~/miniforge3/envs/gempy3/lib/python3.10/site-packages/pyro/infer/mcmc/hmc.py:345\u001b[0m, in \u001b[0;36mHMC.setup\u001b[0;34m(self, warmup_steps, *args, **kwargs)\u001b[0m\n\u001b[1;32m    343\u001b[0m \u001b[38;5;28mself\u001b[39m\u001b[38;5;241m.\u001b[39m_warmup_steps \u001b[38;5;241m=\u001b[39m warmup_steps\n\u001b[1;32m    344\u001b[0m \u001b[38;5;28;01mif\u001b[39;00m \u001b[38;5;28mself\u001b[39m\u001b[38;5;241m.\u001b[39mmodel \u001b[38;5;129;01mis\u001b[39;00m \u001b[38;5;129;01mnot\u001b[39;00m \u001b[38;5;28;01mNone\u001b[39;00m:\n\u001b[0;32m--> 345\u001b[0m     \u001b[38;5;28;43mself\u001b[39;49m\u001b[38;5;241;43m.\u001b[39;49m\u001b[43m_initialize_model_properties\u001b[49m\u001b[43m(\u001b[49m\u001b[43margs\u001b[49m\u001b[43m,\u001b[49m\u001b[43m \u001b[49m\u001b[43mkwargs\u001b[49m\u001b[43m)\u001b[49m\n\u001b[1;32m    346\u001b[0m \u001b[38;5;28;01mif\u001b[39;00m \u001b[38;5;28mself\u001b[39m\u001b[38;5;241m.\u001b[39minitial_params:\n\u001b[1;32m    347\u001b[0m     z \u001b[38;5;241m=\u001b[39m {k: v\u001b[38;5;241m.\u001b[39mdetach() \u001b[38;5;28;01mfor\u001b[39;00m k, v \u001b[38;5;129;01min\u001b[39;00m \u001b[38;5;28mself\u001b[39m\u001b[38;5;241m.\u001b[39minitial_params\u001b[38;5;241m.\u001b[39mitems()}\n",
      "File \u001b[0;32m~/miniforge3/envs/gempy3/lib/python3.10/site-packages/pyro/infer/mcmc/hmc.py:279\u001b[0m, in \u001b[0;36mHMC._initialize_model_properties\u001b[0;34m(self, model_args, model_kwargs)\u001b[0m\n\u001b[1;32m    278\u001b[0m \u001b[38;5;28;01mdef\u001b[39;00m \u001b[38;5;21m_initialize_model_properties\u001b[39m(\u001b[38;5;28mself\u001b[39m, model_args, model_kwargs):\n\u001b[0;32m--> 279\u001b[0m     init_params, potential_fn, transforms, trace \u001b[38;5;241m=\u001b[39m \u001b[43minitialize_model\u001b[49m\u001b[43m(\u001b[49m\n\u001b[1;32m    280\u001b[0m \u001b[43m        \u001b[49m\u001b[38;5;28;43mself\u001b[39;49m\u001b[38;5;241;43m.\u001b[39;49m\u001b[43mmodel\u001b[49m\u001b[43m,\u001b[49m\n\u001b[1;32m    281\u001b[0m \u001b[43m        \u001b[49m\u001b[43mmodel_args\u001b[49m\u001b[43m,\u001b[49m\n\u001b[1;32m    282\u001b[0m \u001b[43m        \u001b[49m\u001b[43mmodel_kwargs\u001b[49m\u001b[43m,\u001b[49m\n\u001b[1;32m    283\u001b[0m \u001b[43m        \u001b[49m\u001b[43mtransforms\u001b[49m\u001b[38;5;241;43m=\u001b[39;49m\u001b[38;5;28;43mself\u001b[39;49m\u001b[38;5;241;43m.\u001b[39;49m\u001b[43mtransforms\u001b[49m\u001b[43m,\u001b[49m\n\u001b[1;32m    284\u001b[0m \u001b[43m        \u001b[49m\u001b[43mmax_plate_nesting\u001b[49m\u001b[38;5;241;43m=\u001b[39;49m\u001b[38;5;28;43mself\u001b[39;49m\u001b[38;5;241;43m.\u001b[39;49m\u001b[43m_max_plate_nesting\u001b[49m\u001b[43m,\u001b[49m\n\u001b[1;32m    285\u001b[0m \u001b[43m        \u001b[49m\u001b[43mjit_compile\u001b[49m\u001b[38;5;241;43m=\u001b[39;49m\u001b[38;5;28;43mself\u001b[39;49m\u001b[38;5;241;43m.\u001b[39;49m\u001b[43m_jit_compile\u001b[49m\u001b[43m,\u001b[49m\n\u001b[1;32m    286\u001b[0m \u001b[43m        \u001b[49m\u001b[43mjit_options\u001b[49m\u001b[38;5;241;43m=\u001b[39;49m\u001b[38;5;28;43mself\u001b[39;49m\u001b[38;5;241;43m.\u001b[39;49m\u001b[43m_jit_options\u001b[49m\u001b[43m,\u001b[49m\n\u001b[1;32m    287\u001b[0m \u001b[43m        \u001b[49m\u001b[43mskip_jit_warnings\u001b[49m\u001b[38;5;241;43m=\u001b[39;49m\u001b[38;5;28;43mself\u001b[39;49m\u001b[38;5;241;43m.\u001b[39;49m\u001b[43m_ignore_jit_warnings\u001b[49m\u001b[43m,\u001b[49m\n\u001b[1;32m    288\u001b[0m \u001b[43m        \u001b[49m\u001b[43minit_strategy\u001b[49m\u001b[38;5;241;43m=\u001b[39;49m\u001b[38;5;28;43mself\u001b[39;49m\u001b[38;5;241;43m.\u001b[39;49m\u001b[43m_init_strategy\u001b[49m\u001b[43m,\u001b[49m\n\u001b[1;32m    289\u001b[0m \u001b[43m        \u001b[49m\u001b[43minitial_params\u001b[49m\u001b[38;5;241;43m=\u001b[39;49m\u001b[38;5;28;43mself\u001b[39;49m\u001b[38;5;241;43m.\u001b[39;49m\u001b[43m_initial_params\u001b[49m\u001b[43m,\u001b[49m\n\u001b[1;32m    290\u001b[0m \u001b[43m    \u001b[49m\u001b[43m)\u001b[49m\n\u001b[1;32m    291\u001b[0m     \u001b[38;5;28mself\u001b[39m\u001b[38;5;241m.\u001b[39mpotential_fn \u001b[38;5;241m=\u001b[39m potential_fn\n\u001b[1;32m    292\u001b[0m     \u001b[38;5;28mself\u001b[39m\u001b[38;5;241m.\u001b[39mtransforms \u001b[38;5;241m=\u001b[39m transforms\n",
      "File \u001b[0;32m~/miniforge3/envs/gempy3/lib/python3.10/site-packages/pyro/infer/mcmc/util.py:468\u001b[0m, in \u001b[0;36minitialize_model\u001b[0;34m(model, model_args, model_kwargs, transforms, max_plate_nesting, jit_compile, jit_options, skip_jit_warnings, num_chains, init_strategy, initial_params)\u001b[0m\n\u001b[1;32m    464\u001b[0m     prototype_params \u001b[38;5;241m=\u001b[39m {k: transforms[k](v) \u001b[38;5;28;01mfor\u001b[39;00m k, v \u001b[38;5;129;01min\u001b[39;00m prototype_samples\u001b[38;5;241m.\u001b[39mitems()}\n\u001b[1;32m    465\u001b[0m     \u001b[38;5;66;03m# Note that we deliberately do not exercise jit compilation here so as to\u001b[39;00m\n\u001b[1;32m    466\u001b[0m     \u001b[38;5;66;03m# enable potential_fn to be picklable (a torch._C.Function cannot be pickled).\u001b[39;00m\n\u001b[1;32m    467\u001b[0m     \u001b[38;5;66;03m# We pass model_trace merely for computational savings.\u001b[39;00m\n\u001b[0;32m--> 468\u001b[0m     initial_params \u001b[38;5;241m=\u001b[39m \u001b[43m_find_valid_initial_params\u001b[49m\u001b[43m(\u001b[49m\n\u001b[1;32m    469\u001b[0m \u001b[43m        \u001b[49m\u001b[43mmodel\u001b[49m\u001b[43m,\u001b[49m\n\u001b[1;32m    470\u001b[0m \u001b[43m        \u001b[49m\u001b[43mmodel_args\u001b[49m\u001b[43m,\u001b[49m\n\u001b[1;32m    471\u001b[0m \u001b[43m        \u001b[49m\u001b[43mmodel_kwargs\u001b[49m\u001b[43m,\u001b[49m\n\u001b[1;32m    472\u001b[0m \u001b[43m        \u001b[49m\u001b[43mtransforms\u001b[49m\u001b[43m,\u001b[49m\n\u001b[1;32m    473\u001b[0m \u001b[43m        \u001b[49m\u001b[43mpe_maker\u001b[49m\u001b[38;5;241;43m.\u001b[39;49m\u001b[43mget_potential_fn\u001b[49m\u001b[43m(\u001b[49m\u001b[43m)\u001b[49m\u001b[43m,\u001b[49m\n\u001b[1;32m    474\u001b[0m \u001b[43m        \u001b[49m\u001b[43mprototype_params\u001b[49m\u001b[43m,\u001b[49m\n\u001b[1;32m    475\u001b[0m \u001b[43m        \u001b[49m\u001b[43mnum_chains\u001b[49m\u001b[38;5;241;43m=\u001b[39;49m\u001b[43mnum_chains\u001b[49m\u001b[43m,\u001b[49m\n\u001b[1;32m    476\u001b[0m \u001b[43m        \u001b[49m\u001b[43minit_strategy\u001b[49m\u001b[38;5;241;43m=\u001b[39;49m\u001b[43minit_strategy\u001b[49m\u001b[43m,\u001b[49m\n\u001b[1;32m    477\u001b[0m \u001b[43m        \u001b[49m\u001b[43mtrace\u001b[49m\u001b[38;5;241;43m=\u001b[39;49m\u001b[43mmodel_trace\u001b[49m\u001b[43m,\u001b[49m\n\u001b[1;32m    478\u001b[0m \u001b[43m    \u001b[49m\u001b[43m)\u001b[49m\n\u001b[1;32m    479\u001b[0m potential_fn \u001b[38;5;241m=\u001b[39m pe_maker\u001b[38;5;241m.\u001b[39mget_potential_fn(\n\u001b[1;32m    480\u001b[0m     jit_compile, skip_jit_warnings, jit_options\n\u001b[1;32m    481\u001b[0m )\n\u001b[1;32m    482\u001b[0m \u001b[38;5;28;01mreturn\u001b[39;00m initial_params, potential_fn, transforms, model_trace\n",
      "File \u001b[0;32m~/miniforge3/envs/gempy3/lib/python3.10/site-packages/pyro/infer/mcmc/util.py:365\u001b[0m, in \u001b[0;36m_find_valid_initial_params\u001b[0;34m(model, model_args, model_kwargs, transforms, potential_fn, prototype_params, max_tries_initial_params, num_chains, init_strategy, trace)\u001b[0m\n\u001b[1;32m    363\u001b[0m                 \u001b[38;5;28;01mreturn\u001b[39;00m {k: torch\u001b[38;5;241m.\u001b[39mstack(v) \u001b[38;5;28;01mfor\u001b[39;00m k, v \u001b[38;5;129;01min\u001b[39;00m params_per_chain\u001b[38;5;241m.\u001b[39mitems()}\n\u001b[1;32m    364\u001b[0m     trace \u001b[38;5;241m=\u001b[39m \u001b[38;5;28;01mNone\u001b[39;00m\n\u001b[0;32m--> 365\u001b[0m \u001b[38;5;28;01mraise\u001b[39;00m \u001b[38;5;167;01mValueError\u001b[39;00m(\n\u001b[1;32m    366\u001b[0m     \u001b[38;5;124m\"\u001b[39m\u001b[38;5;124mModel specification seems incorrect - cannot find valid initial params.\u001b[39m\u001b[38;5;124m\"\u001b[39m\n\u001b[1;32m    367\u001b[0m )\n",
      "\u001b[0;31mValueError\u001b[0m: Model specification seems incorrect - cannot find valid initial params."
     ]
    }
   ],
   "source": [
    "pyro.primitives.enable_validation(is_validate=True)\n",
    "nuts_kernel = NUTS(model_test, step_size=0.0085, adapt_step_size=True, target_accept_prob=0.9, max_tree_depth=10, init_strategy=init_to_mean)\n",
    "#nuts_kernel = NUTS(model_test, step_size=0.00085, adapt_step_size=True, target_accept_prob=0.9, max_tree_depth=10)\n",
    "#nuts_kernel = NUTS(model_test)\n",
    "initial_values = {'mu_1': torch.tensor(0.01, dtype=torch.float64),'mu_2': torch.tensor(0.01, dtype=torch.float64) }\n",
    "#mcmc = MCMC(nuts_kernel, num_samples=200, warmup_steps=50, disable_validation=False, initial_params=initial_values)\n",
    "mcmc = MCMC(nuts_kernel, num_samples=200, warmup_steps=50, disable_validation=False)\n",
    "mcmc.run(y_obs_label)"
   ]
  },
  {
   "cell_type": "code",
   "execution_count": null,
   "metadata": {},
   "outputs": [],
   "source": [
    "posterior_samples = mcmc.get_samples()\n",
    "posterior_predictive = Predictive(model_test, posterior_samples)(y_obs_label)\n",
    "data = az.from_pyro(posterior=mcmc, prior=prior, posterior_predictive=posterior_predictive)\n",
    "az.plot_trace(data)\n",
    "plt.show()"
   ]
  },
  {
   "cell_type": "code",
   "execution_count": null,
   "metadata": {},
   "outputs": [],
   "source": [
    "posterior_samples"
   ]
  },
  {
   "cell_type": "code",
   "execution_count": null,
   "metadata": {},
   "outputs": [],
   "source": [
    "loc_mean_posterior, loc_cov_posterior =[], []\n",
    "for key, values in posterior_samples.items():\n",
    "    print(key)\n",
    "    if key == \"sample_data\":\n",
    "        mean = values.mean(dim=0)\n",
    "        cov = values.std(dim=0)\n",
    "        print(\"mean\\n\",mean)\n",
    "        print(\"cov\\n\", cov)\n",
    "        loc_mean_posterior.append(mean.detach().numpy())\n",
    "        loc_cov_posterior.append(cov.detach().numpy())\n",
    "    elif key == \"sigma_data\":\n",
    "        print(\"mean\\n\",values.mean(dim=0), \"\\nstd\\n\", values.std(dim=0))\n",
    "    else:\n",
    "        print(\"mean\\n\",values.mean(), \"\\nstd\\n\", values.std())"
   ]
  },
  {
   "cell_type": "code",
   "execution_count": null,
   "metadata": {},
   "outputs": [],
   "source": [
    "loc_mean_posterior"
   ]
  },
  {
   "cell_type": "code",
   "execution_count": null,
   "metadata": {},
   "outputs": [],
   "source": [
    "loc_cov_posterior"
   ]
  },
  {
   "cell_type": "code",
   "execution_count": null,
   "metadata": {},
   "outputs": [],
   "source": [
    "plt.figure(figsize=(8, 6))\n",
    "x = np.linspace(-0.5,1.5,8000)\n",
    "  # Combine x and y grids into a (100, 100, 2) array\n",
    "for i in range(3):\n",
    "    # Create a multivariate normal distribution\n",
    "    rv = norm(loc_mean_posterior[0][i], loc_cov_posterior[0][i])\n",
    "\n",
    "    # Calculate PDF values for each point in the grid\n",
    "    pdf_values = rv.pdf(x)\n",
    "\n",
    "    # Plot the Gaussian distribution using contour plot\n",
    "    \n",
    "    plt.scatter(x, pdf_values, s=2.5, label='Gaussian_'+str(i+1))\n",
    "#plt.colorbar(label='Probability Density')\n",
    "plt.xlabel('hsi_spectra')\n",
    "plt.ylabel('Unnormalized Probability Density')\n",
    "plt.title('Gaussian Distribution')\n",
    "#plt.scatter(loc_mean[i], color='red', label='Mean')\n",
    "plt.legend()\n",
    "plt.grid(True)\n",
    "plt.show()"
   ]
  },
  {
   "cell_type": "code",
   "execution_count": null,
   "metadata": {},
   "outputs": [],
   "source": [
    "data.posterior"
   ]
  },
  {
   "cell_type": "code",
   "execution_count": null,
   "metadata": {},
   "outputs": [],
   "source": [
    "az.plot_density(\n",
    "    data=[data.posterior, data.prior],\n",
    "    shade=.9,\n",
    "    var_names=['mu_1'],\n",
    "    data_labels=[\"Posterior Predictive\", \"Prior Predictive\"],\n",
    "    colors=[default_red, default_blue],\n",
    ")\n",
    "plt.show()"
   ]
  },
  {
   "cell_type": "code",
   "execution_count": null,
   "metadata": {},
   "outputs": [],
   "source": [
    "az.plot_density(\n",
    "    data=[data.posterior, data.prior],\n",
    "    shade=.9,\n",
    "    var_names=['mu_2'],\n",
    "    data_labels=[\"Posterior Predictive\", \"Prior Predictive\"],\n",
    "    colors=[default_red, default_blue],\n",
    ")\n",
    "plt.show()"
   ]
  },
  {
   "cell_type": "code",
   "execution_count": null,
   "metadata": {},
   "outputs": [],
   "source": [
    "# Update the model with the new top layer's location\n",
    "interpolation_input = geo_model_test.interpolation_input\n",
    "interpolation_input.surface_points.sp_coords = torch.index_put(\n",
    "    interpolation_input.surface_points.sp_coords,\n",
    "    (torch.tensor([2]), torch.tensor([2])),\n",
    "    posterior_samples[\"mu_1\"].mean()\n",
    ")\n",
    "interpolation_input.surface_points.sp_coords = torch.index_put(\n",
    "    interpolation_input.surface_points.sp_coords,\n",
    "    (torch.tensor([5]), torch.tensor([2])),\n",
    "    posterior_samples[\"mu_2\"].mean()\n",
    ")\n",
    "\n",
    "#print(\"interpolation_input\",interpolation_input.surface_points.sp_coords)\n",
    "\n",
    "# # Compute the geological model\n",
    "geo_model_test.solutions = gempy_engine.compute_model(\n",
    "    interpolation_input=interpolation_input,\n",
    "    options=geo_model_test.interpolation_options,\n",
    "    data_descriptor=geo_model_test.input_data_descriptor,\n",
    "    geophysics_input=geo_model_test.geophysics_input,\n",
    ")\n",
    "\n",
    "gpv.plot_2d(geo_model_test, cell_number=5, legend='force')"
   ]
  },
  {
   "cell_type": "code",
   "execution_count": null,
   "metadata": {},
   "outputs": [],
   "source": [
    "sp_coords_copy_test2 =interpolation_input.surface_points.sp_coords\n",
    "sp_coords_copy_test2"
   ]
  },
  {
   "cell_type": "code",
   "execution_count": null,
   "metadata": {},
   "outputs": [],
   "source": [
    "sp_cord= geo_model_test.transform.apply_inverse(sp_coords_copy_test2.detach().numpy())\n",
    "sp_cord"
   ]
  },
  {
   "cell_type": "code",
   "execution_count": null,
   "metadata": {},
   "outputs": [],
   "source": [
    "geo_model_post = gp.create_geomodel(\n",
    "    project_name='Gempy_post_Test',\n",
    "    extent=[0, 1000, -10, 10, -900, -400],\n",
    "    resolution=[100,10,100],\n",
    "    refinement=7,\n",
    "    structural_frame= gp.data.StructuralFrame.initialize_default_structure()\n",
    "    )\n",
    "gp.add_surface_points(\n",
    "    geo_model=geo_model_post,\n",
    "    x=sp_cord[3:,0],\n",
    "    y=sp_cord[3:,1],\n",
    "    z=sp_cord[3:,2],\n",
    "    elements_names=['surface1', 'surface1','surface1']\n",
    ")\n",
    "gp.add_orientations(\n",
    "    geo_model=geo_model_post,\n",
    "    x=[500],\n",
    "    y=[0.0],\n",
    "    z=[brk1],\n",
    "    elements_names=['surface1'],\n",
    "    pole_vector=[[0, 0, 1.0]]\n",
    ")\n",
    "gpv.plot_2d(geo_model_post, cell_number=5, legend='force')\n",
    "geo_model_test.update_transform(gp.data.GlobalAnisotropy.NONE)  \n",
    "gp.compute_model(geo_model_post, engine_config=gp.data.GemPyEngineConfig())\n",
    "gpv.plot_2d(geo_model_post, cell_number=[5])\n",
    "    "
   ]
  },
  {
   "cell_type": "code",
   "execution_count": null,
   "metadata": {},
   "outputs": [],
   "source": [
    "element2 = gp.data.StructuralElement(\n",
    "    name='surface2',\n",
    "    color=next(geo_model_post.structural_frame.color_generator),\n",
    "    surface_points=gp.data.SurfacePointsTable.from_arrays(\n",
    "        x=sp_cord[:3,0],\n",
    "        y=sp_cord[:3,1],\n",
    "        z=sp_cord[:3,2],\n",
    "        names='surface2'\n",
    "    ),\n",
    "    orientations=gp.data.OrientationsTable.initialize_empty()\n",
    ")\n",
    "geo_model_post.structural_frame.structural_groups[0].append_element(element2)\n",
    "gp.compute_model(geo_model_post)\n",
    "#gpv.plot_2d(geo_model_post, cell_number=5, legend='force')\n",
    "geo_model_post.structural_frame.structural_groups[0].elements[0], geo_model_post.structural_frame.structural_groups[0].elements[1] = \\\n",
    "geo_model_post.structural_frame.structural_groups[0].elements[1], geo_model_post.structural_frame.structural_groups[0].elements[0]\n",
    "gpv.plot_2d(geo_model_post, cell_number=5, legend='force')\n"
   ]
  },
  {
   "cell_type": "code",
   "execution_count": null,
   "metadata": {},
   "outputs": [],
   "source": [
    "geo_model_post.surface_points"
   ]
  },
  {
   "cell_type": "markdown",
   "metadata": {},
   "source": []
  },
  {
   "cell_type": "code",
   "execution_count": null,
   "metadata": {},
   "outputs": [],
   "source": [
    "# # Creating marginal distribution plots\n",
    "# p = PlotPosterior(data)\n",
    "# p.create_figure(figsize=(9, 5), joyplot=False, marginal=True, likelihood=False)\n",
    "# p.plot_marginal(\n",
    "#     var_names=['mu_1', 'mu_2'],\n",
    "#     plot_trace=False,\n",
    "#     credible_interval=.70,\n",
    "#     kind='kde',\n",
    "#     marginal_kwargs={\"bw\": 1}\n",
    "# )\n",
    "# plt.show()"
   ]
  },
  {
   "cell_type": "code",
   "execution_count": null,
   "metadata": {},
   "outputs": [],
   "source": [
    "# # Visualizing the posterior distributions\n",
    "# p = PlotPosterior(data)\n",
    "# p.create_figure(figsize=(9, 6), joyplot=True)\n",
    "# iteration = 99\n",
    "# p.plot_posterior(\n",
    "#     prior_var=['mu_1', 'mu_2'],\n",
    "#     like_var=['mu_1', 'mu_2'],\n",
    "#     obs='obs',\n",
    "#     iteration=iteration,\n",
    "#     marginal_kwargs={\n",
    "#         \"credible_interval\": 0.94,\n",
    "#         'marginal_kwargs': {\"bw\": 1},\n",
    "#         'joint_kwargs': {\"bw\": 1}\n",
    "#     }\n",
    "# )\n",
    "# plt.show()"
   ]
  },
  {
   "cell_type": "code",
   "execution_count": null,
   "metadata": {},
   "outputs": [],
   "source": [
    "# # Creating a pair plot for selected parameters\n",
    "# az.plot_pair(data, divergences=False, var_names=['mu_1', 'mu_2'])\n",
    "# plt.show()"
   ]
  }
 ],
 "metadata": {
  "kernelspec": {
   "display_name": "gempy3",
   "language": "python",
   "name": "python3"
  },
  "language_info": {
   "codemirror_mode": {
    "name": "ipython",
    "version": 3
   },
   "file_extension": ".py",
   "mimetype": "text/x-python",
   "name": "python",
   "nbconvert_exporter": "python",
   "pygments_lexer": "ipython3",
   "version": "3.10.13"
  }
 },
 "nbformat": 4,
 "nbformat_minor": 2
}
